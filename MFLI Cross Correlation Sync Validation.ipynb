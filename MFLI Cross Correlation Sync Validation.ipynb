{
 "cells": [
  {
   "cell_type": "code",
   "execution_count": 1,
   "metadata": {},
   "outputs": [],
   "source": [
    "import zhinst\n",
    "import zhinst.utils\n",
    "import zhinst.ziPython as ziPython\n",
    "import time\n",
    "import pprint\n",
    "import numpy as np\n",
    "import matplotlib.pyplot as plt"
   ]
  },
  {
   "cell_type": "code",
   "execution_count": 2,
   "metadata": {},
   "outputs": [],
   "source": [
    "master_id = 'dev4299' ###### Change master device here  ######\n",
    "slave_id = 'dev4614' ###### Change slave here  ######\n",
    "\n",
    "num_samples = 2**12 ## How many number of samples to take? \n",
    "\n",
    "devs = [master_id, slave_id]\n",
    "\n",
    "repeats = int(1e4) ##### How many cross-correlation averages do you want to take?"
   ]
  },
  {
   "cell_type": "code",
   "execution_count": 3,
   "metadata": {},
   "outputs": [
    {
     "data": {
      "text/plain": [
       "[['/dev4614/currins/*/float', 0],\n",
       " ['/dev4614/dios/*/drive', 0],\n",
       " ['/dev4614/demods/*/enable', 0],\n",
       " ['/dev4614/demods/*/trigger', 0],\n",
       " ['/dev4614/demods/*/sinc', 0],\n",
       " ['/dev4614/demods/*/oscselect', 0],\n",
       " ['/dev4614/demods/*/harmonic', 1],\n",
       " ['/dev4614/demods/*/phaseshift', 0],\n",
       " ['/dev4614/extrefs/*/enable', 0],\n",
       " ['/dev4614/mods/*/enable', 0],\n",
       " ['/dev4614/pids/*/enable', 0],\n",
       " ['/dev4614/sigins/*/ac', 0],\n",
       " ['/dev4614/sigins/*/imp50', 0],\n",
       " ['/dev4614/sigins/*/diff', 0],\n",
       " ['/dev4614/sigins/*/float', 0],\n",
       " ['/dev4614/sigouts/*/on', 0],\n",
       " ['/dev4614/sigouts/*/enables/*', 0],\n",
       " ['/dev4614/sigouts/*/offset', 0.0],\n",
       " ['/dev4614/sigouts/*/add', 0],\n",
       " ['/dev4614/sigouts/*/diff', 0],\n",
       " ['/dev4614/sigouts/*/imp50', 0],\n",
       " ['/dev4614/scopes/*/enable', 0],\n",
       " ['/dev4614/scopes/*/segments/enable', 0],\n",
       " ['/dev4614/scopes/*/stream/enables/*', 0],\n",
       " ['/dev4614/triggers/out/*/drive', 0]]"
      ]
     },
     "execution_count": 3,
     "metadata": {},
     "output_type": "execute_result"
    }
   ],
   "source": [
    "apilevel = 6\n",
    "\n",
    "daq =  zhinst.ziPython.ziDAQServer('127.0.0.1', 8004, apilevel)\n",
    "discovery = zhinst.ziPython.ziDiscovery()\n",
    "\n",
    "# Enable the API's log.\n",
    "daq.setDebugLevel(3)\n",
    "\n",
    "## Get Master and slave daq handles\n",
    "master = discovery.find(master_id).lower()\n",
    "slave = discovery.find(slave_id).lower()\n",
    "\n",
    "# Reverts all settings in devices back to default\n",
    "zhinst.utils.disable_everything(daq, master)\n",
    "zhinst.utils.disable_everything(daq, slave)\n",
    "\n",
    "tbase = daq.getDouble('/%s/system/properties/timebase' % master_id)"
   ]
  },
  {
   "cell_type": "code",
   "execution_count": 4,
   "metadata": {},
   "outputs": [],
   "source": [
    "####################################################################################################################\n",
    "# Configure the MFLI settings for the test experiment\n",
    "####################################################################################################################\n",
    "\n",
    "# Set signal to be outputted from master device\n",
    "daq.setDouble('/%s/oscs/0/freq' % master_id, 66900) # Set oscillator frequency to 66.9 kHz\n",
    "daq.setDouble('/%s/sigouts/0/range' % master_id, 0.005) # Set input range to 1.0m\n",
    "daq.setDouble('/%s/sigouts/0/amplitudes/0' % master_id, 7e-06) # Set amplitude of signal to be outputted\n",
    "daq.setInt('/%s/sigouts/0/on' % master_id, 1) # Enable signal output\n",
    "daq.setInt('/%s/sigouts/0/enables/0' % master_id, 1) # Enable amplitud eoutput\n",
    "daq.setInt('/%s/sigouts/0/imp50' % master_id, 1) # Turn on output impedance\n",
    "\n",
    "daq.setDouble('/%s/sigins/0/range' % master_id, 0.001) # Set input range\n",
    "daq.setInt('/%s/sigins/0/imp50' % master_id, 1) #  Turn on input impedance\n",
    "\n",
    "daq.setDouble('/%s/sigins/0/range' % slave_id, 0.001) # Set input range\n",
    "daq.setInt('/%s/sigins/0/imp50' % slave_id, 1) #  Turn on input impedance"
   ]
  },
  {
   "cell_type": "code",
   "execution_count": 9,
   "metadata": {},
   "outputs": [],
   "source": [
    "daq.setDouble('/%s/sigins/0/range' % slave_id, 0.01) # Set input range"
   ]
  },
  {
   "cell_type": "code",
   "execution_count": null,
   "metadata": {},
   "outputs": [],
   "source": []
  },
  {
   "cell_type": "code",
   "execution_count": 12,
   "metadata": {},
   "outputs": [
    {
     "name": "stdout",
     "output_type": "stream",
     "text": [
      "Starting measurements between dev4299 and dev4614\n"
     ]
    }
   ],
   "source": [
    "# capture several scope shots\n",
    "poll_length = 0.1  # [s]\n",
    "poll_timeout = 100  # [ms]\n",
    "poll_flags = 0\n",
    "poll_return_flat_dict = True\n",
    "\n",
    "# compare each device to the base device\n",
    "data = {}\n",
    "\n",
    "print(\"Starting measurements between %s and %s\" % (master_id, slave_id))\n",
    "\n",
    "daq.unsubscribe('*')\n",
    "daq.subscribe('/%s/scopes/0/wave' % master_id)\n",
    "daq.subscribe('/%s/scopes/0/wave' % slave_id)\n",
    "daq.setInt('/%s/scopes/0/single' % master_id, 1)\n",
    "daq.setInt('/%s/scopes/0/single' % slave_id, 1)\n",
    "daq.setInt('/%s/scopes/0/enable' % master_id, 1)\n",
    "daq.setInt('/%s/scopes/0/enable' % slave_id, 1)\n",
    "daq.sync()\n",
    "time.sleep(0.5)\n",
    "\n",
    "# set output (trigger scope shot)\n",
    "daq.setDouble('/%s/sigouts/0/offset' % master_id, 1.0)\n",
    "time.sleep(0.1)\n",
    "daq.setDouble('/%s/sigouts/0/offset' % master_id, 0.0)\n",
    "\n",
    "d = daq.poll(poll_length, poll_timeout, poll_flags, poll_return_flat_dict)\n",
    "\n",
    "if not '/%s/scopes/0/wave' % slave_id in d or not '/%s/scopes/0/wave' % master_id in d:\n",
    "    assert False\n",
    "\n",
    "data[slave_id] = d\n",
    "data[master_id] = d\n",
    "\n",
    "daq.unsubscribe('*')"
   ]
  },
  {
   "cell_type": "code",
   "execution_count": 52,
   "metadata": {},
   "outputs": [],
   "source": [
    "##### Read and plot data from master device ####\n",
    "\n",
    "path = '/%s/scopes/0/wave' % master_id\n",
    "#Get clockbase of master device\n",
    "clockbase = daq.getInt('/{}/clockbase'.format(master_id))\n",
    "\n",
    "# Find convert the timestamps to the relative time captured from master device\n",
    "dt = data[master_id][path][0]['dt']\n",
    "totalsamples = data[master_id][path][0]['totalsamples']\n",
    "timestamp = data[master_id][path][0]['timestamp']\n",
    "triggerTimestamp = data[master_id][path][0]['triggertimestamp']\n",
    "xtime = np.linspace(0, dt*totalsamples, totalsamples) # This is the time starting from 0\n",
    "relativeTime1 = xtime - (timestamp - triggerTimestamp)/float(clockbase) # This is the time as actually captured in scope\n",
    "\n",
    "# Get wave captured from master device\n",
    "scope_shot = data[master_id][path]\n",
    "scope_shot = scope_shot[-1]\n",
    "wave1 = (scope_shot['channeloffset'][0] + scope_shot['channelscaling'][0] * scope_shot['wave'][:, 0])\n",
    "\n",
    "##### Read and plot data from slave device ####\n",
    "\n",
    "path = '/%s/scopes/0/wave' % slave_id\n",
    "#Get clockbase of slave device\n",
    "clockbase = daq.getInt('/{}/clockbase'.format(slave_id))\n",
    "\n",
    "# Find convert the timestamps to the relative time captured from slave device\n",
    "dt = data[slave_id][path][0]['dt']\n",
    "totalsamples = data[slave_id][path][0]['totalsamples']\n",
    "timestamp = data[slave_id][path][0]['timestamp']\n",
    "triggerTimestamp = data[slave_id][path][0]['triggertimestamp']\n",
    "xtime = np.linspace(0, dt*totalsamples, totalsamples) # This is the time starting from 0\n",
    "relativeTime2 = xtime - (timestamp - triggerTimestamp)/float(clockbase) # This is the time as actually captured in scope\n",
    "\n",
    "# Get wave captured from slave device\n",
    "scope_shot = data[slave_id][path]\n",
    "scope_shot = scope_shot[-1]\n",
    "wave2 = (scope_shot['channeloffset'][0] + scope_shot['channelscaling'][0] * scope_shot['wave'][:, 0])"
   ]
  },
  {
   "cell_type": "code",
   "execution_count": 53,
   "metadata": {},
   "outputs": [
    {
     "data": {
      "image/png": "[encoded data removed]",
      "text/plain": [
       "<Figure size 432x288 with 1 Axes>"
      ]
     },
     "metadata": {
      "needs_background": "light"
     },
     "output_type": "display_data"
    }
   ],
   "source": [
    "plt.plot(relativeTime1 * 1e3, wave1, label=master_id)\n",
    "plt.plot(relativeTime2 * 1e3, wave2, label=slave_id)\n",
    "\n",
    "plt.ylabel('Amplitude [V]')\n",
    "plt.xlabel('Time [ms]')\n",
    " \n",
    "plt.grid(True)\n",
    "plt.legend()\n",
    " \n",
    "plt.draw()\n",
    "plt.show()"
   ]
  }
 ],
 "metadata": {
  "kernelspec": {
   "display_name": "Python 3",
   "language": "python",
   "name": "python3"
  },
  "language_info": {
   "codemirror_mode": {
    "name": "ipython",
    "version": 3
   },
   "file_extension": ".py",
   "mimetype": "text/x-python",
   "name": "python",
   "nbconvert_exporter": "python",
   "pygments_lexer": "ipython3",
   "version": "3.7.7"
  }
 },
 "nbformat": 4,
 "nbformat_minor": 4
}
