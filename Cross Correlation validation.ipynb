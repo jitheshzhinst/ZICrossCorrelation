{
 "cells": [
  {
   "cell_type": "markdown",
   "metadata": {},
   "source": [
    "## This is the script is to test one single cross-correlation experiment\n",
    "## The wiring setup to be used is seen here: https://blogs.zhinst.com/jithesh/files/2020/05/figure2-e1589970333493.png\n",
    "## This entire script will generate a square and triangle wave, and then acquire these signals by triggering. These waves will then be cross-correlated (in frequency domain) and plotted"
   ]
  },
  {
   "cell_type": "code",
   "execution_count": 1,
   "metadata": {},
   "outputs": [
    {
     "name": "stdout",
     "output_type": "stream",
     "text": [
      "Discovered device `dev2521`: UHFLI with options MF, PID, MOD, AWG, DIG, BOX, CNT.\n",
      "Creating an API session for device `dev2521` on `127.0.0.1`, `8004` with apilevel `6`.\n"
     ]
    },
    {
     "name": "stderr",
     "output_type": "stream",
     "text": [
      "C:\\Users\\jsrinivas\\AppData\\Local\\Programs\\Python\\Python37\\lib\\site-packages\\zhinst\\utils.py:168: UserWarning: There is a mismatch between the versions of the API and Data Server. The API reports version `20.01' (revision: 200101211) whilst the Data Server has version `20.03' (revision 200301386). See the ``Compatibility'' Section in the LabOne Programming Manual for more information.\n",
      "  warnings.warn(message)\n"
     ]
    },
    {
     "name": "stdout",
     "output_type": "stream",
     "text": [
      "Number of scope records with triggering enabled: 1.\n"
     ]
    }
   ],
   "source": [
    "# -*- coding: utf-8 -*-\n",
    "\"\"\"\n",
    "Zurich Instruments Cross-correlation of a square and saw-tooth wave. Demonstrates one single cross-correlation measurement.\n",
    "\n",
    "Author: J Srinivas\n",
    "\"\"\"\n",
    "\n",
    "from __future__ import print_function\n",
    "import time\n",
    "import numpy as np\n",
    "import zhinst.utils\n",
    "import matplotlib.pyplot as plt\n",
    "from datetime import datetime\n",
    "import textwrap\n",
    "\n",
    "## Set the device ID of your UHFLI here! ##\n",
    "device_id = 'dev2521' \n",
    "\n",
    "\n",
    "scope_length=2**18 # the number of samples to acquire: 262,144\n",
    "scope_time = 2 # scope time of 2 is a sampling rate of 450 MHz\n",
    "\n",
    "apilevel_example = 6  # The API level supported by this example.\n",
    "required_devtype = r'UHF'  # Regular expression of supported instruments.\n",
    "required_options = {}  # No special options required.\n",
    "required_err_msg = \"This example is only compatible with UHF and MF Instruments: \" + \\\n",
    "                   \"The HF2 Data Server does not support API Levels > 1, which \" + \\\n",
    "                   \"is required to use the extended scope data structure. \" + \\\n",
    "                   \"For HF2, see the example zhinst.examples.hf2.example_scope.\"\n",
    "(daq, device, props) = zhinst.utils.create_api_session(device_id, apilevel_example,\n",
    "                                                       required_devtype=required_devtype,\n",
    "                                                       required_options=required_options,\n",
    "                                                       required_err_msg=required_err_msg)\n",
    "zhinst.utils.api_server_version_check(daq)\n",
    "\n",
    "# Create a base configuration: Disable all available outputs, awgs, demods, scopes,...\n",
    "zhinst.utils.api_server_version_check(daq) # Check API versions\n",
    "daq.setDebugLevel(3) # Enable the API's log.\n",
    "zhinst.utils.disable_everything(daq, device) # Reset all config/parameters of device\n",
    "\n",
    "\n",
    "# Define the AWG program, as a string, which synthesizes and plays a square and triangle wave\n",
    "awg_program = textwrap.dedent(\"\"\"\\\n",
    "            wave tri = join(zeros(5000),ramp(5000, 1, 0), zeros(5000));\n",
    "            wave sqr = join(zeros(5000), rect(5000, 1), zeros(5000));\n",
    "\n",
    "            playWave(tri, sqr, AWG_RATE_28MHZ);\n",
    "\n",
    "            wait(40032); // Waits a delay before triggering acquisition\n",
    "\n",
    "            setTrigger(1);\n",
    "            setTrigger(0);\n",
    "\n",
    "            waitWave();\n",
    "        \"\"\")\n",
    "\n",
    "\n",
    "# Create an instance of the AWG Module\n",
    "awgModule = daq.awgModule()\n",
    "awgModule.set('device', device)\n",
    "awgModule.execute()\n",
    "\n",
    "#Get clockbase\n",
    "clockbase = daq.getInt('/{}/clockbase'.format(device_id))\n",
    "# Now configure the instrument for this experiment.\n",
    "\n",
    "exp_setting = [\n",
    "    # The output and inputs parameters signal 1.\n",
    "    ['/%s/sigouts/%d/on'             % (device, 0), 1],\n",
    "    ['/%s/sigouts/%d/range'          % (device, 0), 1.5],\n",
    "    ['/%s/sigins/%d/imp50'           % (device, 0), 1],\n",
    "    \n",
    "    # The output and inputs parameters signal 1.\n",
    "    ['/%s/sigouts/%d/on'             % (device, 1), 1],\n",
    "    ['/%s/sigouts/%d/range'          % (device, 1), 1.5],\n",
    "    ['/%s/sigins/%d/imp50'           % (device, 1), 1]]\n",
    "\n",
    "node_branches = daq.listNodes('/{}/'.format(device), 0)\n",
    "    \n",
    "daq.set(exp_setting)\n",
    "\n",
    "# Perform a global synchronisation between the device and the data server:\n",
    "# Ensure that the signal input and output configuration has taken effect\n",
    "# before calculating the signal input autorange.\n",
    "daq.sync()\n",
    "\n",
    "####################################################################################################################\n",
    "# Configure the scope and obtain data\n",
    "####################################################################################################################\n",
    "\n",
    "# 'length' : the length to capture of acquired data\n",
    "daq.setInt('/%s/scopes/0/length' % device, scope_length)\n",
    "\n",
    "# Turns on both channel 1 & 2 of the scope\n",
    "daq.setInt('/%s/scopes/0/channel' % device, 3)\n",
    "\n",
    "# Bandwidth limit set for both-channels to avoid anti-aliasing effects\n",
    "daq.setInt('/%s/scopes/0/channels/%d/bwlimit' % (device, 0), 1)\n",
    "daq.setInt('/%s/scopes/0/channels/%d/bwlimit' % (device, 1), 1)\n",
    "\n",
    "# 'channels/0/inputselect' : the input channel for the scope:\n",
    "#   0 - signal input 1\n",
    "#   1 - signal input 2\n",
    "daq.setInt('/%s/scopes/0/channels/%d/inputselect' % (device, 0), 0)\n",
    "daq.setInt('/%s/scopes/0/channels/%d/inputselect' % (device, 1), 1)\n",
    "\n",
    "# Sets the sampling rate of the scope\n",
    "daq.setInt('/%s/scopes/0/time' % device, scope_time)\n",
    "\n",
    "#   Sets to acquire only one scope shot\n",
    "daq.setInt('/%s/scopes/0/single' % device, 1)\n",
    "\n",
    "# Enable trigger\n",
    "daq.setInt('/%s/scopes/0/trigenable' % device, 1)\n",
    "\n",
    "# Set trigger to AWG Trigger 1 (192)\n",
    "daq.setInt('/%s/scopes/0/trigchannel' % device, 192)\n",
    "\n",
    "# 'segments/enable' : Disable segmented data recording.\n",
    "daq.setInt('/%s/scopes/0/segments/enable' % device, 0)\n",
    "\n",
    "daq.sync()\n",
    "\n",
    "# Now initialize and configure the Scope Module.\n",
    "scopeModule = daq.scopeModule()\n",
    "\n",
    "scopeModule.set('mode', 1)\n",
    "\n",
    "# 'historylength' : The number of scope records to keep in the Scope Module's memory, when more records\n",
    "#   arrive in the Module from the device the oldest records are overwritten.\n",
    "scopeModule.set('historylength', 1)\n",
    "\n",
    "# Subscribe to the scope's data in the module.\n",
    "wave_nodepath = '/{}/scopes/0/wave'.format(device)\n",
    "scopeModule.subscribe(wave_nodepath)\n",
    "\n",
    "########## AWG ##########\n",
    "# Create an instance of the AWG module\n",
    "awgModule = daq.awgModule()\n",
    "awgModule.set('device', device)\n",
    "awgModule.set('index', 0)\n",
    "daq.setInt('/dev2521/awgs/0/time', scope_time) # Set Sampling Rate for AWG \n",
    "awgModule.execute()\n",
    "\n",
    "# Tell the module to be ready to acquire data; reset the module's progress to 0.0.\n",
    "scopeModule.execute()\n",
    "\n",
    "# Start the scope\n",
    "daq.setInt('/%s/scopes/0/enable' % device, 1)\n",
    "daq.sync()\n",
    "time.sleep(1.0)\n",
    "\n",
    "# Start the AWG\n",
    "daq.set([['/' + device + '/awgs/0/single', 1],\n",
    "             ['/' + device + '/awgs/0/enable', 1]])\n",
    "daq.sync()\n",
    "\n",
    "start = time.time()\n",
    "# Wait until the Scope Module has received and processed the desired number of records.\n",
    "records = 0 # tracks num. of records acquired\n",
    "while (records < 1) or (progress < 1.0):\n",
    "    # Start the AWG\n",
    "    daq.set([['/' + device + '/awgs/0/single', 1],\n",
    "                 ['/' + device + '/awgs/0/enable', 1]])\n",
    "    daq.sync()\n",
    "    records = scopeModule.getInt(\"records\")\n",
    "    progress = scopeModule.progress()[0]\n",
    "\n",
    "    if (time.time() - start) > 30: # The value 30 in seconds repressents time before program terminates if no records are captured\n",
    "        # Break out of the loop if for some reason we're no longer receiving scope data from the device.\n",
    "        print(\"\\nScope Module did not return {} records after {} s - forcing stop.\".format(num_records, timeout))\n",
    "        break\n",
    "\n",
    "    # Read data\n",
    "    data_time = scopeModule.read(True)\n",
    "\n",
    "assert wave_nodepath in data_time, \"The Scope Module did not return data for {}.\".format(wave_nodepath)\n",
    "print('Number of scope records with triggering enabled: {}.'.format(len(data_time[wave_nodepath])))\n",
    "\n",
    "# Stop the module\n",
    "scopeModule.finish()"
   ]
  },
  {
   "cell_type": "markdown",
   "metadata": {},
   "source": [
    "## Let's plot and see the data we have captured in our channels now!"
   ]
  },
  {
   "cell_type": "code",
   "execution_count": 2,
   "metadata": {},
   "outputs": [
    {
     "data": {
      "text/plain": [
       "[Text(0, 0.5, 'Signal amplitude /V'), Text(0.5, 0, 'Time /$u$s')]"
      ]
     },
     "execution_count": 2,
     "metadata": {},
     "output_type": "execute_result"
    },
    {
     "data": {
      "image/png": "[encoded data removed]",
      "text/plain": [
       "<Figure size 648x288 with 2 Axes>"
      ]
     },
     "metadata": {
      "needs_background": "light"
     },
     "output_type": "display_data"
    }
   ],
   "source": [
    "# Find convert the timestamps to the relative time captured in the scope\n",
    "dt = data_time[wave_nodepath][0][0]['dt']\n",
    "totalsamples = data_time[wave_nodepath][0][0]['totalsamples']\n",
    "timestamp = data_time[wave_nodepath][0][0]['timestamp']\n",
    "triggerTimestamp = data_time[wave_nodepath][0][0]['triggertimestamp']\n",
    "xtime = np.linspace(0, dt*totalsamples, totalsamples) # This is the time starting from 0\n",
    "relativeTime = xtime - (timestamp - triggerTimestamp)/float(clockbase) # This is the time as actually captured in scope\n",
    "\n",
    "# Now extract the waves acquired from the scope module for both channels\n",
    "wave1 = data_time[wave_nodepath][0][0]['wave'][0]\n",
    "wave2 = data_time[wave_nodepath][0][0]['wave'][1]\n",
    "\n",
    "# Let's plot and create two figures for each channel\n",
    "fig, (ax1, ax2) = plt.subplots(1, 2, figsize=(9,4))\n",
    "\n",
    "# We convert time from unit seconds to microseconds\n",
    "ax1.plot(relativeTime*1000000, wave1,color='blue', linewidth=1)\n",
    "ax1.set_title('Input channel 1') \n",
    "ax1.set(xlabel='Time /$u$s', ylabel='Signal amplitude /V')\n",
    "\n",
    "ax2.plot(relativeTime*1000000, wave2,color='red', linewidth=1)\n",
    "ax2.set_title('Input channel 2') \n",
    "ax2.set(xlabel='Time /$u$s', ylabel='Signal amplitude /V')"
   ]
  },
  {
   "cell_type": "markdown",
   "metadata": {},
   "source": [
    "# Now we finally perform cross-correlation! \n",
    "## We take the complex conjugate of wave 2 first"
   ]
  },
  {
   "cell_type": "code",
   "execution_count": 3,
   "metadata": {},
   "outputs": [
    {
     "name": "stdout",
     "output_type": "stream",
     "text": [
      "Total time taken for cross-correlation in the frequency domain: 0.84 seconds\n"
     ]
    }
   ],
   "source": [
    "# Data array will store both wave arrays\n",
    "data = [wave1, wave2]\n",
    "\n",
    "# Let's also see how long it takes to perform cross-correlation here...\n",
    "start = time.time()\n",
    "\n",
    "# Convert from time-domain to frequency-domain by applying FFT (scipy module required)\n",
    "data_fft_0 = np.fft.fft(data[0], len(wave1)*2-1) #fft of channel 1\n",
    "data_fft_1 = np.fft.fft(data[1], len(wave2)*2-1) #fft of channel 2\n",
    "\n",
    "# Calculate cross-correlated FFT signal\n",
    "corr_fft = np.multiply(data_fft_0, np.conj(data_fft_1))\n",
    "\n",
    "# Cross-correlated time-domain signal\n",
    "icorr_fft = np.fft.ifft(corr_fft)\n",
    "\n",
    "# Inverse shift our signal to have zero-component at the center of spectrum\n",
    "shiftedxcorr = np.fft.fftshift(icorr_fft)\n",
    "\n",
    "print(f'Total time taken for cross-correlation in the frequency domain: {round(time.time() - start, 2)} seconds')"
   ]
  },
  {
   "cell_type": "markdown",
   "metadata": {},
   "source": [
    "## Cross-correlate again but now with the complex conjugate of wave 1"
   ]
  },
  {
   "cell_type": "code",
   "execution_count": 4,
   "metadata": {},
   "outputs": [],
   "source": [
    "# Calculate cross-correlated FFT signal with data_fft_0 taken as complex conjugate\n",
    "corr_fft2 = np.multiply(np.conj(data_fft_0), data_fft_1)\n",
    "\n",
    "# Cross-correlated time-domain signal\n",
    "icorr_fft2 = np.fft.ifft(corr_fft2)\n",
    "\n",
    "# Inverse shift our signal to have zero-component at the center of spectrum\n",
    "shiftedxcorr2 = np.fft.fftshift(icorr_fft2)\n",
    "\n",
    "# Additionally, multiplying two FFT signals and inverse-FFT gives us 2x the signal length.\n",
    "shiftedTime = np.linspace(min(relativeTime), max(relativeTime), len(relativeTime)*2-1)"
   ]
  },
  {
   "cell_type": "markdown",
   "metadata": {},
   "source": [
    "## Now plot both the cross-correlated results in both cases of complex conjugate taken"
   ]
  },
  {
   "cell_type": "code",
   "execution_count": 5,
   "metadata": {},
   "outputs": [
    {
     "name": "stderr",
     "output_type": "stream",
     "text": [
      "C:\\Users\\jsrinivas\\AppData\\Local\\Programs\\Python\\Python37\\lib\\site-packages\\numpy\\core\\_asarray.py:85: ComplexWarning: Casting complex values to real discards the imaginary part\n",
      "  return array(a, dtype, copy=False, order=order)\n",
      "C:\\Users\\jsrinivas\\AppData\\Local\\Programs\\Python\\Python37\\lib\\site-packages\\numpy\\core\\_asarray.py:85: ComplexWarning: Casting complex values to real discards the imaginary part\n",
      "  return array(a, dtype, copy=False, order=order)\n"
     ]
    },
    {
     "data": {
      "text/plain": [
       "[Text(0, 0.5, 'Normalized result'), Text(0.5, 0, 'Time /$u$s')]"
      ]
     },
     "execution_count": 5,
     "metadata": {},
     "output_type": "execute_result"
    },
    {
     "data": {
      "image/png": "[encoded data removed]",
      "text/plain": [
       "<Figure size 648x288 with 2 Axes>"
      ]
     },
     "metadata": {
      "needs_background": "light"
     },
     "output_type": "display_data"
    }
   ],
   "source": [
    "fig, (ax1, ax2) = plt.subplots(1, 2, figsize=(9,4))\n",
    "fig.suptitle('Normalized cross correlated signals')\n",
    "# We convert time from unit seconds to microseconds\n",
    "ax1.plot(shiftedTime*1000000, shiftedxcorr2/np.sqrt(sum(abs(wave1)**2)*sum(abs(wave2)**2)),color='black', linewidth=2)\n",
    "ax1.set_title('$g * f$') \n",
    "ax1.set(xlabel='Time /$u$s', ylabel='Normalized result')\n",
    "\n",
    "ax2.plot(shiftedTime*1000000, shiftedxcorr/np.sqrt(sum(wave1**2)*sum(wave2**2)),color='black', linewidth=2)\n",
    "ax2.set_title('$f * g$') \n",
    "ax2.set(xlabel='Time /$u$s', ylabel='Normalized result')"
   ]
  },
  {
   "cell_type": "markdown",
   "metadata": {},
   "source": [
    "# Bonus: what happens when we cross-correlate directly in the time-domain instead? \n",
    "#### The time taken is much longer than done in the frequency domain. Frequency domain is a simple dot product multiplication of two arrays (keep in mind, we don't bother normalizing here)."
   ]
  },
  {
   "cell_type": "code",
   "execution_count": 6,
   "metadata": {},
   "outputs": [
    {
     "name": "stdout",
     "output_type": "stream",
     "text": [
      "Total time taken for cross correlation in the time-domain: 17.53 seconds\n"
     ]
    },
    {
     "data": {
      "image/png": "[encoded data removed]",
      "text/plain": [
       "<Figure size 432x288 with 1 Axes>"
      ]
     },
     "metadata": {
      "needs_background": "light"
     },
     "output_type": "display_data"
    }
   ],
   "source": [
    "from scipy import signal\n",
    "start = time.time()\n",
    "timeCorr = signal.correlate(wave1, wave2, mode = 'full', method='direct')\n",
    "plt.plot(timeCorr)\n",
    "print(f'Total time taken for cross correlation in the time-domain: {round(time.time() - start, 2)} seconds')"
   ]
  }
 ],
 "metadata": {
  "kernelspec": {
   "display_name": "Python 3",
   "language": "python",
   "name": "python3"
  },
  "language_info": {
   "codemirror_mode": {
    "name": "ipython",
    "version": 3
   },
   "file_extension": ".py",
   "mimetype": "text/x-python",
   "name": "python",
   "nbconvert_exporter": "python",
   "pygments_lexer": "ipython3",
   "version": "3.7.6"
  }
 },
 "nbformat": 4,
 "nbformat_minor": 4
}
