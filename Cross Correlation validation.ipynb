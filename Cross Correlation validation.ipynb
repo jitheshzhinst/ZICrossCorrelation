{
 "cells": [
  {
   "cell_type": "code",
   "execution_count": null,
   "metadata": {},
   "outputs": [],
   "source": []
  },
  {
   "cell_type": "code",
   "execution_count": null,
   "metadata": {},
   "outputs": [],
   "source": []
  },
  {
   "cell_type": "code",
   "execution_count": null,
   "metadata": {},
   "outputs": [],
   "source": []
  },
  {
   "cell_type": "code",
   "execution_count": null,
   "metadata": {},
   "outputs": [],
   "source": []
  },
  {
   "cell_type": "code",
   "execution_count": 12,
   "metadata": {},
   "outputs": [],
   "source": [
    "def get_scope_records(device, daq, scopeModule, num_records=1):\n",
    "\n",
    "    # Tell the module to be ready to acquire data; reset the module's progress to 0.0.\n",
    "    scopeModule.execute()\n",
    "\n",
    "    # Enable the scope: Now the scope is ready to record data upon receiving triggers.\n",
    "    daq.setInt('/%s/scopes/0/enable' % device, 1)\n",
    "    daq.sync()\n",
    "\n",
    "    time.sleep(1.0)\n",
    "\n",
    "    # Start the AWG\n",
    "    #daq.set([['/' + device + '/awgs/0/single', 1],\n",
    "    #             ['/' + device + '/awgs/0/enable', 1]])\n",
    "    daq.sync()\n",
    "\n",
    "    start = time.time()\n",
    "    timeout = 30  # [s]\n",
    "    records = 0\n",
    "    progress = 0\n",
    "    # Wait until the Scope Module has received and processed the desired number of records.\n",
    "    tic = time.perf_counter()\n",
    "    # Start the AWG\n",
    "    daq.set([['/' + device + '/awgs/0/single', 1],\n",
    "                 ['/' + device + '/awgs/0/enable', 1]])\n",
    "    while (records < num_records) or (progress < 1.0):\n",
    "        time.sleep(0.5)\n",
    "        records = scopeModule.getInt(\"records\")\n",
    "        progress = scopeModule.progress()[0]\n",
    "        print((\"Scope module has acquired {} records (requested {}). \"\n",
    "               \"Progress of current segment {}%.\").format(records, num_records, 100.*progress), end='\\r')\n",
    "        # Advanced use: It's possible to read-out data before all records have been recorded (or even before all\n",
    "        # segments in a multi-segment record have been recorded). Note that complete records are removed from the Scope\n",
    "        # Module and can not be read out again; the read-out data must be managed by the client code. If a multi-segment\n",
    "        # record is read-out before all segments have been recorded, the wave data has the same size as the complete\n",
    "        # data and scope data points currently unacquired segments are equal to 0.\n",
    "        #\n",
    "        # data = scopeModule.read(True)\n",
    "        # wave_nodepath = '/{}/scopes/0/wave'.format(device)\n",
    "        # if wave_nodepath in data:\n",
    "        #   Do something with the data...\n",
    "        if (time.time() - start) > timeout:\n",
    "            # Break out of the loop if for some reason we're no longer receiving scope data from the device.\n",
    "            print(\"\\nScope Module did not return {} records after {} s - forcing stop.\".format(num_records, timeout))\n",
    "            break\n",
    "    print(\"\")\n",
    "\n",
    "    toc = time.perf_counter()\n",
    "    print('Time taken in seconds: ', toc-tic)\n",
    "    daq.setInt('/%s/scopes/0/enable' % device, 0)\n",
    "\n",
    "    # Read out the scope data from the module.\n",
    "    data = scopeModule.read(True)\n",
    "\n",
    "    # Stop the module; to use it again we need to call execute().\n",
    "    scopeModule.finish()\n",
    "    return data\n",
    "\n",
    "\n",
    "def check_scope_record_flags(scope_records):\n",
    "    \"\"\"\n",
    "    Loop over all records and print a warning to the console if an error bit in\n",
    "    flags has been set.\n",
    "\n",
    "    Warning: This function is intended as a helper function for the API's\n",
    "    examples and it's signature or implementation may change in future releases.\n",
    "    \"\"\"\n",
    "    num_records = len(scope_records)\n",
    "    for index, record in enumerate(scope_records):\n",
    "        if record[0]['flags'] & 1:\n",
    "            print('Warning: Scope record {}/{} flag indicates dataloss.'.format(index, num_records))\n",
    "        if record[0]['flags'] & 2:\n",
    "            print('Warning: Scope record {}/{} indicates missed trigger.'.format(index, num_records))\n",
    "        if record[0]['flags'] & 4:\n",
    "            print('Warning: Scope record {}/{} indicates transfer failure (corrupt data).'.format(index, num_records))\n",
    "        totalsamples = record[0]['totalsamples']\n",
    "        for wave in record[0]['wave']:\n",
    "            # Check that the wave in each scope channel contains the expected number of samples.\n",
    "            assert len(wave) == totalsamples, \\\n",
    "                'Scope record {}/{} size does not match totalsamples.'.format(index, num_records)"
   ]
  },
  {
   "cell_type": "code",
   "execution_count": 9,
   "metadata": {},
   "outputs": [
    {
     "name": "stdout",
     "output_type": "stream",
     "text": [
      "Discovered device `dev2521`: UHFLI with options MF, PID, MOD, AWG, DIG, BOX, CNT.\n",
      "Creating an API session for device `dev2521` on `127.0.0.1`, `8004` with apilevel `6`.\n",
      "Scope module has acquired 1 records (requested 1). Progress of current segment 100.0%.\n",
      "Time taken in seconds:  0.5169303999999784\n"
     ]
    },
    {
     "ename": "TypeError",
     "evalue": "argument of type 'NoneType' is not iterable",
     "output_type": "error",
     "traceback": [
      "\u001b[1;31m---------------------------------------------------------------------------\u001b[0m",
      "\u001b[1;31mTypeError\u001b[0m                                 Traceback (most recent call last)",
      "\u001b[1;32m<ipython-input-9-769d61bd53e2>\u001b[0m in \u001b[0;36m<module>\u001b[1;34m\u001b[0m\n\u001b[0;32m    235\u001b[0m \u001b[1;31m#toc = time.perf_counter()\u001b[0m\u001b[1;33m\u001b[0m\u001b[1;33m\u001b[0m\u001b[1;33m\u001b[0m\u001b[0m\n\u001b[0;32m    236\u001b[0m \u001b[1;31m#print('Time taken: ', toc-tic)\u001b[0m\u001b[1;33m\u001b[0m\u001b[1;33m\u001b[0m\u001b[1;33m\u001b[0m\u001b[0m\n\u001b[1;32m--> 237\u001b[1;33m \u001b[1;32massert\u001b[0m \u001b[0mwave_nodepath\u001b[0m \u001b[1;32min\u001b[0m \u001b[0mdata_time\u001b[0m\u001b[1;33m,\u001b[0m \u001b[1;34m\"The Scope Module did not return data for {}.\"\u001b[0m\u001b[1;33m.\u001b[0m\u001b[0mformat\u001b[0m\u001b[1;33m(\u001b[0m\u001b[0mwave_nodepath\u001b[0m\u001b[1;33m)\u001b[0m\u001b[1;33m\u001b[0m\u001b[1;33m\u001b[0m\u001b[0m\n\u001b[0m\u001b[0;32m    238\u001b[0m \u001b[0mprint\u001b[0m\u001b[1;33m(\u001b[0m\u001b[1;34m'Number of scope records with triggering disabled: {}.'\u001b[0m\u001b[1;33m.\u001b[0m\u001b[0mformat\u001b[0m\u001b[1;33m(\u001b[0m\u001b[0mlen\u001b[0m\u001b[1;33m(\u001b[0m\u001b[0mdata_time\u001b[0m\u001b[1;33m[\u001b[0m\u001b[0mwave_nodepath\u001b[0m\u001b[1;33m]\u001b[0m\u001b[1;33m)\u001b[0m\u001b[1;33m)\u001b[0m\u001b[1;33m)\u001b[0m\u001b[1;33m\u001b[0m\u001b[1;33m\u001b[0m\u001b[0m\n\u001b[0;32m    239\u001b[0m \u001b[0mcheck_scope_record_flags\u001b[0m\u001b[1;33m(\u001b[0m\u001b[0mdata_time\u001b[0m\u001b[1;33m[\u001b[0m\u001b[0mwave_nodepath\u001b[0m\u001b[1;33m]\u001b[0m\u001b[1;33m)\u001b[0m\u001b[1;33m\u001b[0m\u001b[1;33m\u001b[0m\u001b[0m\n",
      "\u001b[1;31mTypeError\u001b[0m: argument of type 'NoneType' is not iterable"
     ]
    }
   ],
   "source": [
    "# -*- coding: utf-8 -*-\n",
    "\"\"\"\n",
    "Zurich Instruments LabOne Python API Example.\n",
    "\n",
    "Demonstrate how to connect to a Zurich Instruments Device and obtain scope data\n",
    "using the Scope Module.\n",
    "\"\"\"\n",
    "\n",
    "# Copyright 2018 Zurich Instruments AG\n",
    "\n",
    "from __future__ import print_function\n",
    "import time\n",
    "import numpy as np\n",
    "import zhinst.utils\n",
    "import matplotlib.pyplot as plt\n",
    "import matplotlib.cm as cm\n",
    "from datetime import datetime\n",
    "import os\n",
    "\n",
    "\n",
    "\n",
    "device_id = 'dev2521'\n",
    "do_Plot = True\n",
    "scope_inputselect=0\n",
    "scope_length=2**16\n",
    "scope_time = 13\n",
    "scope_trigholdoff=0.050\n",
    "sigouts_amplitude=0.5\n",
    "sigouts_range=1.5\n",
    "module_averager_weight=1\n",
    "module_historylength=20\n",
    "min_num_records=1\n",
    "repeats=1\n",
    "\n",
    "apilevel_example = 6  # The API level supported by this example.\n",
    "# Call a zhinst utility function that returns:\n",
    "# - an API session `daq` in order to communicate with devices via the data server.\n",
    "# - the device ID string that specifies the device branch in the server's node hierarchy.\n",
    "# - the device's discovery properties.\n",
    "# This example can't run with HF2 Instruments.\n",
    "required_devtype = r'UHF|MF'  # Regular expression of supported instruments.\n",
    "required_options = {}  # No special options required.\n",
    "required_err_msg = \"This example is only compatible with UHF and MF Instruments: \" + \\\n",
    "                   \"The HF2 Data Server does not support API Levels > 1, which \" + \\\n",
    "                   \"is required to use the extended scope data structure. \" + \\\n",
    "                   \"For HF2, see the example zhinst.examples.hf2.example_scope.\"\n",
    "(daq, device, props) = zhinst.utils.create_api_session(device_id, apilevel_example,\n",
    "                                                       required_devtype=required_devtype,\n",
    "                                                       required_options=required_options,\n",
    "                                                       required_err_msg=required_err_msg)\n",
    "zhinst.utils.api_server_version_check(daq)\n",
    "\n",
    "# Enable the API's log.\n",
    "daq.setDebugLevel(3)\n",
    "\n",
    "# Create a base configuration: Disable all available outputs, awgs, demods, scopes,...\n",
    "#zhinst.utils.disable_everything(daq, device)\n",
    "\n",
    "#Get clockbase\n",
    "clockbase = daq.getInt('/{}/clockbase'.format(device_id))\n",
    "# Now configure the instrument for this experiment.\n",
    "\n",
    "# Determine the sigin/sigout channels to configure based on the specified scope inputselect.\n",
    "if scope_inputselect == 0:\n",
    "    # inputselect 0 corresponds to signal input 1\n",
    "    out_channel = 0\n",
    "    in_channel = 0\n",
    "elif scope_inputselect == 1:\n",
    "    # inputselect 0 corresponds to signal input 2\n",
    "    out_channel = 1\n",
    "    in_channel = 1\n",
    "else:\n",
    "    raise Exception(\"This example only supports signal inputs; it does not support scope inputselect {}. \"\n",
    "                    \"Use 0 or 1 instead.\".format(scope_inputselect))\n",
    "\n",
    "# Get the value of the instrument's default Signal Output mixer channel.\n",
    "out_mixer_channel = zhinst.utils.default_output_mixer_channel(props, output_channel=out_channel)\n",
    "\n",
    "osc_index = 0\n",
    "scope_in_channel = 0  # scope input channel\n",
    "if props['devicetype'].startswith('UHF'):\n",
    "    frequency = 2000\n",
    "else:\n",
    "    frequency = 400e3\n",
    "exp_setting = [\n",
    "    # The output signal for 1.\n",
    "    ['/%s/sigouts/%d/on'             % (device, out_channel), 1],\n",
    "    ['/%s/sigouts/%d/range'          % (device, out_channel), sigouts_range],\n",
    "    ['/%s/sigouts/%d/amplitudes/%d'  % (device, out_channel, out_mixer_channel), sigouts_amplitude],\n",
    "    ['/%s/sigouts/%d/enables/%d'     % (device, out_channel, out_mixer_channel), 0],\n",
    "    ['/%s/sigouts/%d/imp50'          % (device, out_channel), 1],\n",
    "    ['/%s/sigins/%d/imp50'           % (device, in_channel), 1],\n",
    "    ['/%s/sigins/%d/ac'              % (device, in_channel), 0],\n",
    "\n",
    "    # The output signal for 2\n",
    "    ['/%s/sigouts/%d/on'             % (device, 1), 1],\n",
    "    ['/%s/sigouts/%d/range'          % (device, 1), sigouts_range],\n",
    "    ['/%s/sigouts/%d/amplitudes/%d'  % (device, 1, 1), 316.2e-3],\n",
    "    ['/%s/sigouts/%d/amplitudes/%d'  % (device, 1, 2), 316.2e-3],\n",
    "    ['/%s/sigouts/%d/enables/%d'     % (device, 1, 1), 0],\n",
    "    ['/%s/sigouts/%d/enables/%d'     % (device, 1, 2), 0],\n",
    "    ['/%s/sigouts/%d/imp50'          % (device, 1), 1],\n",
    "    ['/%s/sigins/%d/imp50'           % (device, 1), 1],\n",
    "    ['/%s/sigins/%d/ac'              % (device, 1), 0],\n",
    "\n",
    "    # Setting Demod oscillators\n",
    "    ['/%s/demods/%d/oscselect'              % (device, 1), 1],\n",
    "    ['/%s/demods/%d/oscselect'              % (device, 2), 2],\n",
    "\n",
    "    # We will use autorange to adjust the sigins range.\n",
    "    ['/%s/sigins/%d/range'           % (device, in_channel), 2*sigouts_amplitude],\n",
    "    ['/%s/sigins/%d/range'           % (device, 1), 2*sigouts_amplitude],\n",
    "    ['/%s/oscs/%d/freq'              % (device, 0), 2],\n",
    "    ['/%s/oscs/%d/freq'              % (device, 1), 2],\n",
    "    ['/%s/oscs/%d/freq'              % (device, 2), 3]]\n",
    "\n",
    "node_branches = daq.listNodes('/{}/'.format(device), 0)\n",
    "if 'DEMODS' in node_branches:\n",
    "    # NOTE we don't need any demodulator data for this example, but we need\n",
    "    # to configure the frequency of the output signal on out_mixer_c.\n",
    "    exp_setting.append(['/%s/demods/%d/oscselect' % (device, out_mixer_channel), osc_index])\n",
    "#daq.set(exp_setting)\n",
    "\n",
    "# Perform a global synchronisation between the device and the data server:\n",
    "# Ensure that the signal input and output configuration has taken effect\n",
    "# before calculating the signal input autorange.\n",
    "daq.sync()\n",
    "\n",
    "# Perform an automatic adjustment of the signal inputs range based on the\n",
    "# measured input signal's amplitude measured over approximately 100 ms.\n",
    "# This is important to obtain the best bit resolution on the signal inputs\n",
    "# of the measured signal in the scope.\n",
    "#zhinst.utils.sigin_autorange(daq, device, in_channel)\n",
    "#zhinst.utils.sigin_autorange(daq, device, 1)\n",
    "####################################################################################################################\n",
    "# Configure the scope and obtain data with triggering disabled.\n",
    "####################################################################################################################\n",
    "\n",
    "# Configure the instrument's scope via the /devx/scopes/0/ node tree branch.\n",
    "# 'length' : the length of each segment\n",
    "daq.setInt('/%s/scopes/0/length' % device, scope_length)\n",
    "# 'channel' : select the scope channel(s) to enable.\n",
    "#  Bit-encoded as following:\n",
    "#   1 - enable scope channel 0\n",
    "#   2 - enable scope channel 1\n",
    "#   3 - enable both scope channels (requires DIG option)\n",
    "# NOTE we are only interested in one scope channel: scope_in_channel and leave\n",
    "# the other channel unconfigured\n",
    "daq.setInt('/%s/scopes/0/channel' % device, 3)\n",
    "# 'channels/0/bwlimit' : bandwidth limit the scope data. Enabling bandwidth\n",
    "# limiting avoids antialiasing effects due to subsampling when the scope\n",
    "# sample rate is less than the input channel's sample rate.\n",
    "#  Bool:\n",
    "#   0 - do not bandwidth limit\n",
    "#   1 - bandwidth limit\n",
    "daq.setInt('/%s/scopes/0/channels/%d/bwlimit' % (device, scope_in_channel), 1)\n",
    "# 'channels/0/inputselect' : the input channel for the scope:\n",
    "#   0 - signal input 1\n",
    "#   1 - signal input 2\n",
    "#   2, 3 - trigger 1, 2 (front)\n",
    "#   8-9 - auxiliary inputs 1-2\n",
    "#   The following inputs are additionally available with the DIG option:\n",
    "#   10-11 - oscillator phase from demodulator 3-7\n",
    "#   16-23 - demodulator 0-7 x value\n",
    "#   32-39 - demodulator 0-7 y value\n",
    "#   48-55 - demodulator 0-7 R value\n",
    "#   64-71 - demodulator 0-7 Phi value\n",
    "#   80-83 - pid 0-3 out value\n",
    "#   96-97 - boxcar 0-1\n",
    "#   112-113 - cartesian arithmetic unit 0-1\n",
    "#   128-129 - polar arithmetic unit 0-1\n",
    "#   144-147 - pid 0-3 shift value\n",
    "daq.setInt('/%s/scopes/0/channels/%d/inputselect' % (device, 0), 0)\n",
    "daq.setInt('/%s/scopes/0/channels/%d/inputselect' % (device, 1), 1)\n",
    "# 'time' : timescale of the wave, sets the sampling rate to clockbase/2**time.\n",
    "#   0 - sets the sampling rate to 1.8 GHz\n",
    "#   1 - sets the sampling rate to 900 MHz\n",
    "#   ...\n",
    "#   16 - sets the samptling rate to 27.5 kHz\n",
    "#scope_time = 16\n",
    "daq.setInt('/%s/scopes/0/time' % device, scope_time)\n",
    "# 'single' : only get a single scope record.\n",
    "#   0 - acquire continuous records\n",
    "#   1 - acquire a single record\n",
    "daq.setInt('/%s/scopes/0/single' % device, 0)\n",
    "# 'trigenable' : enable the scope's trigger (boolean).\n",
    "#   0 - acquire continuous records\n",
    "#   1 - only acquire a record when a trigger arrives\n",
    "daq.setInt('/%s/scopes/0/trigenable' % device, 1)\n",
    "# Set trigger to AWG Trigger 1 (192)\n",
    "daq.setInt('/%s/scopes/0/trigchannel' % device, 192)\n",
    "# 'trigholdoff' : the scope hold off time inbetween acquiring triggers (still relevant if triggering is disabled).\n",
    "daq.setDouble('/%s/scopes/0/trigholdoff' % device, 20.000e-6)\n",
    "# 'segments/enable' : Disable segmented data recording.\n",
    "daq.setInt('/%s/scopes/0/segments/enable' % device, 0)\n",
    "\n",
    "# Perform a global synchronisation between the device and the data server:\n",
    "# Ensure that the settings have taken effect on the device before acquiring\n",
    "# data.\n",
    "daq.sync()\n",
    "\n",
    "# Now initialize and configure the Scope Module.\n",
    "scopeModule = daq.scopeModule()\n",
    "# 'mode' : Scope data processing mode.\n",
    "# 0 - Pass through scope segments assembled, returned unprocessed, non-interleaved.\n",
    "# 1 - Moving average, scope recording assembled, scaling applied, averaged, if averaging is enabled.\n",
    "# 2 - Not yet supported.\n",
    "# 3 - As for mode 1, except an FFT is applied to every segment of the scope recording.\n",
    "scopeModule.set('mode', 1)\n",
    "# 'averager/weight' : Averager behaviour.\n",
    "#   weight=1 - don't average.exp\n",
    "#   weight>1 - average the scope record shots using an exponentially weighted moving average.\n",
    "scopeModule.set('averager/weight', module_averager_weight)\n",
    "# 'historylength' : The number of scope records to keep in the Scope Module's memory, when more records\n",
    "#   arrive in the Module from the device the oldest records are overwritten.\n",
    "scopeModule.set('historylength', module_historylength)\n",
    "\n",
    "# Subscribe to the scope's data in the module.\n",
    "wave_nodepath = '/{}/scopes/0/wave'.format(device)\n",
    "scopeModule.subscribe(wave_nodepath)\n",
    "\n",
    "########## AWG ##########\n",
    "# Create an instance of the AWG module\n",
    "awgModule = daq.awgModule()\n",
    "awgModule.set('device', device)\n",
    "awgModule.set('index', 0)\n",
    "daq.setInt('/dev2521/awgs/0/time', scope_time) # Set Sampling Rate for AWG \n",
    "awgModule.execute()\n",
    "\n",
    "\n",
    "# Enable the scope and read the scope data arriving from the device.\n",
    "\n",
    "#tic = time.perf_counter()\n",
    "data_time = get_scope_records(device, daq, scopeModule, min_num_records)\n",
    "#toc = time.perf_counter()\n",
    "#print('Time taken: ', toc-tic)\n",
    "assert wave_nodepath in data_time, \"The Scope Module did not return data for {}.\".format(wave_nodepath)\n",
    "print('Number of scope records with triggering disabled: {}.'.format(len(data_time[wave_nodepath])))\n",
    "check_scope_record_flags(data_time[wave_nodepath])\n",
    "\n",
    "\n",
    "\n",
    "\n",
    "\n",
    "# Enable outputs\n",
    "daq.setInt('/{:s}/sigouts/*/on'.format(device), 1)\n",
    "\n",
    "\n",
    "####################################################################################################################\n",
    "# Configure the scope and obtain data with triggering enabled.\n",
    "####################################################################################################################\n",
    "\n",
    "# Now configure the scope's trigger to get aligned data\n",
    "# 'trigenable' : enable the scope's trigger (boolean).\n",
    "#   0 - acquire continuous records\n",
    "#   1 - only acquire a record when a trigger arrives\n",
    "daq.setInt('/%s/scopes/0/trigenable' % device, 1)\n",
    "\n",
    "# Specify the trigger channel, I choose 192 which is AWG trigger 1\n",
    "daq.setInt('/%s/scopes/0/trigchannel' % device, 192)\n",
    "\n",
    "# Trigger on rising edge?\n",
    "daq.setInt('/%s/scopes/0/trigrising' % device, 1)\n",
    "\n",
    "# Trigger on falling edge?\n",
    "daq.setInt('/%s/scopes/0/trigfalling' % device, 0)\n",
    "\n",
    "# Set the trigger threshold level.\n",
    "daq.setDouble('/%s/scopes/0/triglevel' % device, 0.00)\n",
    "\n",
    "# Set hysteresis triggering threshold to avoid triggering on noise\n",
    "# 'trighysteresis/mode' :\n",
    "#  0 - absolute, use an absolute value ('scopes/0/trighysteresis/absolute')\n",
    "#  1 - relative, use a relative value ('scopes/0trighysteresis/relative') of the trigchannel's input range\n",
    "#      (0.1=10%).\n",
    "daq.setDouble('/%s/scopes/0/trighysteresis/mode' % device, 1)\n",
    "daq.setDouble('/%s/scopes/0/trighysteresis/relative' % device, 0.1)  # 0.1=10%\n",
    "\n",
    "# Set the trigger hold-off mode of the scope. After recording a trigger event, this specifies when the scope should\n",
    "# become re-armed and ready to trigger, 'trigholdoffmode':\n",
    "#  0 - specify a hold-off time between triggers in seconds ('scopes/0/trigholdoff'),\n",
    "#  1 - specify a number of trigger events before re-arming the scope ready to trigger ('scopes/0/trigholdcount').\n",
    "daq.setInt('/%s/scopes/0/trigholdoffmode' % device, 0)\n",
    "daq.setDouble('/%s/scopes/0/trigholdoff' % device, 20e-6)\n",
    "\n",
    "# The trigger reference position relative within the wave, a value of 0.5 corresponds to the center of the wave.\n",
    "daq.setDouble('/%s/scopes/0/trigreference' % device, 0.25)\n",
    "\n",
    "# Set trigdelay to 0.: Start recording from when the trigger is activated.\n",
    "daq.setDouble('/%s/scopes/0/trigdelay' % device, 0.0)\n",
    "\n",
    "# Disable trigger gating.\n",
    "daq.setInt('/%s/scopes/0/triggate/enable' % device, 0)\n",
    "\n",
    "# Perform a global synchronisation between the device and the data server:\n",
    "# Ensure that the settings have taken effect on the device before acquiring\n",
    "# data.\n",
    "daq.sync()\n",
    "\n",
    "####################################################################################################################\n",
    "# Configure the Scope Module to calculate FFT data\n",
    "####################################################################################################################\n",
    "\n",
    "wave_nodepath_master = '/dev2521/scopes/0/wave'\n",
    "\n",
    "# Set the Scope Module's mode to return frequency domain data.\n",
    "scopeModule.set('mode', 3)\n",
    "# Use a Hann window function.\n",
    "scopeModule.set('fft/window', 1)\n",
    "\n",
    "# Enable the scope and read the scope data arriving from the device; the Scope Module will additionally perform an\n",
    "# FFT on the data. Note: The other module parameters are already configured and the required data is already\n",
    "# subscribed from above.\n",
    "#data_fft = get_scope_records(device, daq, scopeModule, min_num_records)\n",
    "#assert wave_nodepath in data_fft, \"The Scope Module did not return data for {}.\".format(wave_nodepath)\n",
    "#print(\"Number of scope records returned with triggering enabled (and FFT'd): {}.\".format(\n",
    "#    len(data_fft[wave_nodepath])))\n",
    "#check_scope_record_flags(data_fft[wave_nodepath])\n",
    "\n",
    "\n",
    "####################################################################################################################\n",
    "# Configure the Scope Module to calculate correlated FFT data (main)\n",
    "####################################################################################################################\n",
    "# Now configure the scope's trigger to get aligned data\n",
    "# 'trigenable' : enable the scope's trigger (boolean).\n",
    "#   0 - acquire continuous records\n",
    "#   1 - only acquire a record when a trigger arrives\n",
    "daq.setInt('/%s/scopes/0/trigenable' % device, 1)\n",
    "\n",
    "# Specify the trigger channel, I choose 192 which is AWG trigger 1\n",
    "daq.setInt('/%s/scopes/0/trigchannel' % device, 192)\n",
    "\n",
    "# Trigger on rising edge?\n",
    "daq.setInt('/%s/scopes/0/trigrising' % device, 1)\n",
    "\n",
    "# Trigger on falling edge?\n",
    "daq.setInt('/%s/scopes/0/trigfalling' % device, 0)\n",
    "\n",
    "# Set the trigger threshold level.\n",
    "daq.setDouble('/%s/scopes/0/triglevel' % device, 0.00)\n",
    "\n",
    "# Set hysteresis triggering threshold to avoid triggering on noise\n",
    "# 'trighysteresis/mode' :\n",
    "#  0 - absolute, use an absolute value ('scopes/0/trighysteresis/absolute')\n",
    "#  1 - relative, use a relative value ('scopes/0trighysteresis/relative') of the trigchannel's input range\n",
    "#      (0.1=10%).\n",
    "daq.setDouble('/%s/scopes/0/trighysteresis/mode' % device, 1)\n",
    "daq.setDouble('/%s/scopes/0/trighysteresis/relative' % device, 0.1)  # 0.1=10%\n",
    "\n",
    "# Set the trigger hold-off mode of the scope. After recording a trigger event, this specifies when the scope should\n",
    "# become re-armed and ready to trigger, 'trigholdoffmode':\n",
    "#  0 - specify a hold-off time between triggers in seconds ('scopes/0/trigholdoff'),\n",
    "#  1 - specify a number of trigger events before re-arming the scope ready to trigger ('scopes/0/trigholdcount').\n",
    "daq.setInt('/%s/scopes/0/trigholdoffmode' % device, 0)\n",
    "daq.setDouble('/%s/scopes/0/trigholdoff' % device, 20e-6)\n",
    "\n",
    "# The trigger reference position relative within the wave, a value of 0.5 corresponds to the center of the wave.\n",
    "daq.setDouble('/%s/scopes/0/trigreference' % device, 0.25)\n",
    "\n",
    "# Set trigdelay to 0.: Start recording from when the trigger is activated.\n",
    "daq.setDouble('/%s/scopes/0/trigdelay' % device, 0.0)\n",
    "\n",
    "# Disable trigger gating.\n",
    "daq.setInt('/%s/scopes/0/triggate/enable' % device, 0)\n",
    "\n",
    "# Perform a global synchronisation between the device and the data server:\n",
    "# Ensure that the settings have taken effect on the device before acquiring\n",
    "# data.\n",
    "daq.sync()\n",
    "# Now configure the scope's trigger to get aligned data\n",
    "# 'trigenable' : enable the scope's trigger (boolean).\n",
    "#   0 - acquire continuous records\n",
    "#   1 - only acquire a record when a trigger arrives\n",
    "daq.setInt('/%s/scopes/0/trigenable' % device, 1)\n",
    "\n",
    "daq.sync()\n",
    "# Set the Scope Module's mode to return time domain data.\n",
    "scopeModule.set('mode', 1)\n",
    "# Use a Hann window function.\n",
    "scopeModule.set('fft/window', 1)\n",
    "\n",
    "# Enable the scope and read the scope data arriving from the device; the Scope Module will additionally perform an\n",
    "# FFT on the data. Note: The other module parameters are already configured and the required data is already\n",
    "# subscribed from above.\n",
    "\n",
    "counter = (1, 5, 10, 20, 30, 40, 50)\n",
    "i = 0\n",
    "#fig, axs = plt.subplots(len(counter))\n",
    "#fig.suptitle('Correlation graphs')\n",
    "for n in range (1, repeats+1):\n",
    "\n",
    "\n",
    "    ######## MANUAL FFT #######\n",
    "    sample_rate = 1.8e9/2**scope_time \n",
    "    num_samples = scope_length # Choose the number of samples\n",
    "    ######## MANUAL FFT #######\n",
    "\n",
    "\n",
    "    data_corr = get_scope_records(device, daq, scopeModule, min_num_records)\n",
    "\n",
    "\n",
    "    # Channel 1 time series\n",
    "    wave1 = data_corr[wave_nodepath_master][0][0]['wave'][0]\n",
    "\n",
    "    # Channel 2 time series\n",
    "    wave2 = data_corr[wave_nodepath_master][0][0]['wave'][1]\n",
    "\n",
    "    # FFTs of both channels\n",
    "    fft1 = np.fft.fft(wave1)\n",
    "    fft2 = np.fft.fft(wave2)\n",
    "\n",
    "    data = [fft1, fft2]\n",
    "\n",
    "    if n == 1: \n",
    "        fft1_sum = fft1 # create sum on first iteration\n",
    "        fft2_sum = fft2 # create sum on first iteration\n",
    "\n",
    "        corr_fft = np.multiply(fft1, fft2) #multiply fft chan 1 by complex comjugate of fft for chan 2\n",
    "    else:\n",
    "\n",
    "        fft1_sum = fft1_sum + fft1 # sum ffts\n",
    "        fft2_sum = fft2_sum + fft2 # sum ffts\n",
    "\n",
    "        # sum correlated fft with newly calculated correlated fft\n",
    "        corr_fft = corr_fft + np.multiply(fft1, np.conj(fft2))\n",
    "\n",
    "    print('n value: ', n)\n",
    "\n",
    "    totalsamples = data_corr[wave_nodepath_master][0][0]['totalsamples']\n",
    "    scope_rate = clockbase/2**scope_time\n",
    "    f = np.linspace(0, scope_rate/2, totalsamples)\n",
    "\n",
    "    if n in counter:\n",
    "        tempcorr_fft=corr_fft/n\n",
    "\n",
    "        #axs[i].semilogy(f, tempcorr_fft)    \n",
    "        #axs[i].title.set_text('Correlation averaged %d times ' % n)\n",
    "        print('i is : ', i)\n",
    "\n",
    "        plt.semilogy(f, tempcorr_fft)\n",
    "        plt.title('FFT correlation %d times' % n)\n",
    "        plt.xlabel('Frequency /Hz')\n",
    "        plt.ylabel('Signal amplitude /V')\n",
    "\n",
    "        # Save it\n",
    "        # Find the number of runs existing in the save folder\n",
    "        today = datetime.now().strftime('%Y-%m-%d')\n",
    "        dirName = r'C:\\Users\\jitheshs\\Data\\Cross correlation\\%s' % today\n",
    "        idx = len(os.listdir(dirName))\n",
    "\n",
    "\n",
    "        plt.savefig(r'C:\\Users\\jitheshs\\Data\\Cross correlation\\%s\\Run %d\\%d correlation plot.png' % (today,idx, n))\n",
    "        plt.clf()\n",
    "        i=i+1\n",
    "        print('i is now: ', i)\n",
    "#fig.tight_layout()\n",
    "\n",
    "#today = datetime.now().strftime('%Y-%m-%d')\n",
    "#dirName = r'C:\\Users\\jitheshs\\Data\\Cross correlation\\%s' % today\n",
    "#idx = len(os.listdir(dirName))\n",
    "#fig.savefig(r'C:\\Users\\jitheshs\\Data\\Cross correlation\\%s\\Run %d\\%d correlation plot.png' % (today,idx, n))\n",
    "\n",
    "corr_fft = corr_fft/repeats\n"
   ]
  },
  {
   "cell_type": "code",
   "execution_count": 27,
   "metadata": {},
   "outputs": [
    {
     "name": "stdout",
     "output_type": "stream",
     "text": [
      "Scope module has acquired 1 records (requested 1). Progress of current segment 100.0%.\r\n",
      "Time taken in seconds:  0.518709299999955\n"
     ]
    }
   ],
   "source": [
    "data_time = get_scope_records(device, daq, scopeModule, min_num_records)"
   ]
  },
  {
   "cell_type": "code",
   "execution_count": 28,
   "metadata": {},
   "outputs": [],
   "source": [
    "channel1 = data_time['/dev2521/scopes/0/wave'][0][0]['wave'][0]\n",
    "channel2 = data_time['/dev2521/scopes/0/wave'][0][0]['wave'][1]"
   ]
  },
  {
   "cell_type": "code",
   "execution_count": 35,
   "metadata": {},
   "outputs": [
    {
     "data": {
      "text/plain": [
       "0.06826666666666667"
      ]
     },
     "execution_count": 35,
     "metadata": {},
     "output_type": "execute_result"
    }
   ],
   "source": [
    "data_time['/dev2521/scopes/0/wave'][0][0]['dt']*15000"
   ]
  },
  {
   "cell_type": "code",
   "execution_count": 36,
   "metadata": {},
   "outputs": [
    {
     "data": {
      "text/plain": [
       "4.551111111111111e-06"
      ]
     },
     "execution_count": 36,
     "metadata": {},
     "output_type": "execute_result"
    }
   ],
   "source": [
    "data_time['/dev2521/scopes/0/wave'][0][0]['dt']"
   ]
  },
  {
   "cell_type": "code",
   "execution_count": 31,
   "metadata": {},
   "outputs": [
    {
     "data": {
      "text/plain": [
       "[<matplotlib.lines.Line2D at 0x1992b9ecd08>]"
      ]
     },
     "execution_count": 31,
     "metadata": {},
     "output_type": "execute_result"
    },
    {
     "data": {
      "image/png": "[encoded data removed]",
      "text/plain": [
       "<Figure size 432x288 with 1 Axes>"
      ]
     },
     "metadata": {
      "needs_background": "light"
     },
     "output_type": "display_data"
    }
   ],
   "source": [
    "plt.plot(channel1)\n",
    "plt.plot(channel2)"
   ]
  },
  {
   "cell_type": "code",
   "execution_count": 30,
   "metadata": {},
   "outputs": [
    {
     "data": {
      "text/plain": [
       "[<matplotlib.lines.Line2D at 0x1992ba46b88>]"
      ]
     },
     "execution_count": 30,
     "metadata": {},
     "output_type": "execute_result"
    },
    {
     "data": {
      "image/png": "[encoded data removed]",
      "text/plain": [
       "<Figure size 432x288 with 1 Axes>"
      ]
     },
     "metadata": {
      "needs_background": "light"
     },
     "output_type": "display_data"
    }
   ],
   "source": [
    "plt.plot(channel2)"
   ]
  },
  {
   "cell_type": "code",
   "execution_count": null,
   "metadata": {},
   "outputs": [],
   "source": []
  },
  {
   "cell_type": "code",
   "execution_count": null,
   "metadata": {},
   "outputs": [],
   "source": []
  },
  {
   "cell_type": "code",
   "execution_count": null,
   "metadata": {},
   "outputs": [],
   "source": []
  },
  {
   "cell_type": "code",
   "execution_count": null,
   "metadata": {},
   "outputs": [],
   "source": []
  },
  {
   "cell_type": "code",
   "execution_count": null,
   "metadata": {},
   "outputs": [],
   "source": []
  },
  {
   "cell_type": "code",
   "execution_count": null,
   "metadata": {},
   "outputs": [],
   "source": [
    "import matplotlib.pyplot as plt\n",
    "import matplotlib.cm as cm\n",
    "from datetime import datetime\n",
    "import os\n",
    "\n",
    "\n",
    "# Create date of the run folder, if it does not exist\n",
    "today = datetime.now().strftime('%Y-%m-%d')\n",
    "if not os.path.exists(r\"C:\\Users\\jitheshs\\Data\\Cross correlation\\\\\" + today):\n",
    "    os.mkdir(r\"C:\\Users\\jitheshs\\Data\\Cross correlation\\\\\" + today)\n",
    "\n",
    "# Find the number of runs existing in the save folder\n",
    "dirName = r'C:\\Users\\jitheshs\\Data\\Cross correlation\\%s' % today\n",
    "idx = 1 + len(os.listdir(dirName))\n",
    "#Find the path of the new Run folder to be created\n",
    "newDir = 'Data\\Cross correlation\\%s\\Run %d' % (today,idx)\n",
    "os.mkdir(newDir)\n",
    "print(\"Directory \" , newDir ,  \" Created \") \n",
    "\n",
    "\n",
    "scope_time = 13\n",
    "repeats = 1\n",
    "data, datafft, corr_fft = run_example('dev2521', scope_time = scope_time, repeats=repeats)\n",
    "\n",
    "# Frequency axis values\n",
    "clockbase = 1.8e9\n",
    "totalsamples = datafft['/dev2521/scopes/0/wave'][0][0]['totalsamples']\n",
    "scope_rate = clockbase/2**scope_time\n",
    "f = np.linspace(0, scope_rate/2, totalsamples)\n",
    "\n",
    "\n",
    "#Saves file to the directory\n",
    "np.savetxt(r'C:\\Users\\jitheshs\\Data\\Cross correlation\\%s\\Run %d\\f.dat' % (today,idx), f)\n",
    "\n",
    "np.save(r'C:\\Users\\jitheshs\\Data\\Cross correlation\\%s\\Run %d\\data.dat' % (today,idx), data) \n",
    "\n",
    "np.save(r'C:\\Users\\jitheshs\\Data\\Cross correlation\\%s\\Run %d\\datafft.dat' % (today,idx), datafft) \n",
    "\n",
    "np.save(r'C:\\Users\\jitheshs\\Data\\Cross correlation\\%s\\Run %d\\corr_fft.dat' % (today,idx), corr_fft) "
   ]
  },
  {
   "cell_type": "code",
   "execution_count": 38,
   "metadata": {},
   "outputs": [],
   "source": [
    "data = data_time"
   ]
  },
  {
   "cell_type": "code",
   "execution_count": 41,
   "metadata": {},
   "outputs": [
    {
     "data": {
      "text/plain": [
       "Text(0, 0.5, 'Signal amplitude /V')"
      ]
     },
     "execution_count": 41,
     "metadata": {},
     "output_type": "execute_result"
    },
    {
     "data": {
      "image/png": "[encoded data removed]",
      "text/plain": [
       "<Figure size 432x288 with 1 Axes>"
      ]
     },
     "metadata": {
      "needs_background": "light"
     },
     "output_type": "display_data"
    }
   ],
   "source": [
    "###############################################################\n",
    "############## Time Domain variable calculations ##############\n",
    "###############################################################\n",
    "\n",
    "clockbase = 1.8e9\n",
    "wave_nodepath_master='/dev2521/scopes/0/wave'\n",
    "totalsamples = data[wave_nodepath_master][0][0]['totalsamples']\n",
    "dt = data[wave_nodepath_master][0][0]['dt']\n",
    "timestamp = data[wave_nodepath_master][0][0]['timestamp']\n",
    "triggertimestamp = data[wave_nodepath_master][0][0]['triggertimestamp']\n",
    "t = np.arange(-totalsamples, 0)*dt + (timestamp - triggertimestamp)/float(clockbase)\n",
    "wave1 = data[wave_nodepath_master][0][0]['wave'][0]\n",
    "\n",
    "###############################################################\n",
    "#################### Time Domain plotting #####################\n",
    "###############################################################\n",
    "plt.plot(t, wave1)\n",
    "plt.title('Time Series data for channel 1')\n",
    "plt.xlabel('Time /s')\n",
    "plt.ylabel('Signal amplitude /V')\n",
    "\n",
    "# Save it\n",
    "# Find the number of runs existing in the save folder\n",
    "#today = datetime.now().strftime('%Y-%m-%d')\n",
    "#dirName = r'C:\\Users\\jitheshs\\Data\\Cross correlation\\%s' % today\n",
    "#idx = len(os.listdir(dirName))\n",
    "\n",
    "#plt.savefig(r'C:\\Users\\jitheshs\\Data\\Cross correlation\\%s\\Run %d\\%d Time Series data for channel 1.png' % (today,idx, repeats))"
   ]
  },
  {
   "cell_type": "code",
   "execution_count": 43,
   "metadata": {},
   "outputs": [
    {
     "data": {
      "text/plain": [
       "Text(0, 0.5, 'Signal amplitude /V')"
      ]
     },
     "execution_count": 43,
     "metadata": {},
     "output_type": "execute_result"
    },
    {
     "data": {
      "image/png": "[encoded data removed]",
      "text/plain": [
       "<Figure size 432x288 with 1 Axes>"
      ]
     },
     "metadata": {
      "needs_background": "light"
     },
     "output_type": "display_data"
    }
   ],
   "source": [
    "###############################################################\n",
    "############## Time Domain variable calculations ##############\n",
    "###############################################################\n",
    "\n",
    "clockbase = 1.8e9\n",
    "wave_nodepath_master='/dev2521/scopes/0/wave'\n",
    "totalsamples = data[wave_nodepath_master][0][0]['totalsamples']\n",
    "dt = data[wave_nodepath_master][0][0]['dt']\n",
    "timestamp = data[wave_nodepath_master][0][0]['timestamp']\n",
    "triggertimestamp = data[wave_nodepath_master][0][0]['triggertimestamp']\n",
    "t = np.arange(-totalsamples, 0)*dt + (timestamp - triggertimestamp)/float(clockbase)\n",
    "wave2 = data[wave_nodepath_master][0][0]['wave'][1]\n",
    "\n",
    "###############################################################\n",
    "#################### Time Domain plotting #####################\n",
    "###############################################################\n",
    "plt.plot(t, wave2)\n",
    "plt.title('Time Series data for channel 2')\n",
    "plt.xlabel('Time /s')\n",
    "plt.ylabel('Signal amplitude /V')\n",
    "\n",
    "# Save it\n",
    "# Find the number of runs existing in the save folder\n",
    "#today = datetime.now().strftime('%Y-%m-%d')\n",
    "#dirName = r'C:\\Users\\jitheshs\\Data\\Cross correlation\\%s' % today\n",
    "#idx = len(os.listdir(dirName))\n",
    "\n",
    "#plt.savefig(r'C:\\Users\\jitheshs\\Data\\Cross correlation\\%s\\Run %d\\%d Time Series data for channel 1.png' % (today,idx, repeats))"
   ]
  },
  {
   "cell_type": "code",
   "execution_count": 130,
   "metadata": {},
   "outputs": [
    {
     "data": {
      "text/plain": [
       "<matplotlib.legend.Legend at 0x199475279c8>"
      ]
     },
     "execution_count": 130,
     "metadata": {},
     "output_type": "execute_result"
    }
   ],
   "source": [
    "%matplotlib qt\n",
    "\n",
    "# Get time-axis\n",
    "clockbase = 1.8e9\n",
    "wave_nodepath_master='/dev2521/scopes/0/wave'\n",
    "totalsamples = data[wave_nodepath_master][0][0]['totalsamples']\n",
    "dt = data[wave_nodepath_master][0][0]['dt']\n",
    "timestamp = data[wave_nodepath_master][0][0]['timestamp']\n",
    "triggertimestamp = data[wave_nodepath_master][0][0]['triggertimestamp']\n",
    "t = np.arange(-totalsamples, 0)*dt + (timestamp - triggertimestamp)/float(clockbase)\n",
    "\n",
    "plt.plot(t, wave1, label = 'Input channel 1',color='red', linewidth=3)\n",
    "plt.plot(t, wave2, label = 'Input channel 2',color='blue', linewidth=2)\n",
    "\n",
    "plt.title('Digitized scope data of input channels')\n",
    "plt.xlabel('Time /s')\n",
    "plt.ylabel('Signal amplitude /V')\n",
    "\n",
    "plt.legend(loc='upper left', frameon=True)\n",
    "\n"
   ]
  },
  {
   "cell_type": "code",
   "execution_count": 124,
   "metadata": {},
   "outputs": [
    {
     "data": {
      "text/plain": [
       "0.010163191666666668"
      ]
     },
     "execution_count": 124,
     "metadata": {},
     "output_type": "execute_result"
    }
   ],
   "source": [
    "0-t[0]"
   ]
  },
  {
   "cell_type": "code",
   "execution_count": null,
   "metadata": {},
   "outputs": [],
   "source": []
  },
  {
   "cell_type": "code",
   "execution_count": null,
   "metadata": {},
   "outputs": [],
   "source": []
  },
  {
   "cell_type": "code",
   "execution_count": null,
   "metadata": {},
   "outputs": [],
   "source": []
  },
  {
   "cell_type": "code",
   "execution_count": 45,
   "metadata": {},
   "outputs": [
    {
     "data": {
      "text/plain": [
       "Text(0, 0.5, 'Signal amplitude /V')"
      ]
     },
     "execution_count": 45,
     "metadata": {},
     "output_type": "execute_result"
    },
    {
     "data": {
      "image/png": "[encoded data removed]",
      "text/plain": [
       "<Figure size 432x288 with 1 Axes>"
      ]
     },
     "metadata": {
      "needs_background": "light"
     },
     "output_type": "display_data"
    }
   ],
   "source": [
    "###############################################################\n",
    "########## Flipped Time Domain variable calculations ##########\n",
    "###############################################################\n",
    "\n",
    "clockbase = 1.8e9\n",
    "wave_nodepath_master='/dev2521/scopes/0/wave'\n",
    "totalsamples = data[wave_nodepath_master][0][0]['totalsamples']\n",
    "dt = data[wave_nodepath_master][0][0]['dt']\n",
    "timestamp = data[wave_nodepath_master][0][0]['timestamp']\n",
    "triggertimestamp = data[wave_nodepath_master][0][0]['triggertimestamp']\n",
    "t = np.arange(-totalsamples, 0)*dt + (timestamp - triggertimestamp)/float(clockbase)\n",
    "wave = data[wave_nodepath_master][0][0]['wave'][1]\n",
    "wave = np.flip(wave)\n",
    "\n",
    "###############################################################\n",
    "#################### Time Domain plotting #####################\n",
    "###############################################################\n",
    "plt.plot(t, wave)\n",
    "plt.title('Time Series data for channel 2')\n",
    "plt.xlabel('Time /s')\n",
    "plt.ylabel('Signal amplitude /V')\n",
    "\n",
    "# Save it\n",
    "# Find the number of runs existing in the save folder\n",
    "#today = datetime.now().strftime('%Y-%m-%d')\n",
    "#dirName = r'C:\\Users\\jitheshs\\Data\\Cross correlation\\%s' % today\n",
    "#idx = len(os.listdir(dirName))\n",
    "\n",
    "#plt.savefig(r'C:\\Users\\jitheshs\\Data\\Cross correlation\\%s\\Run %d\\%d Time Series data for channel 1.png' % (today,idx, repeats))"
   ]
  },
  {
   "cell_type": "code",
   "execution_count": null,
   "metadata": {},
   "outputs": [],
   "source": [
    "###############################################################\n",
    "################ Python Correlation calculation ###############\n",
    "###############################################################\n",
    "\n",
    "from scipy import signal \n",
    "\n",
    "# Get time-axis\n",
    "clockbase = 1.8e9\n",
    "wave_nodepath_master='/dev2521/scopes/0/wave'\n",
    "totalsamples = data[wave_nodepath_master][0][0]['totalsamples']\n",
    "dt = data[wave_nodepath_master][0][0]['dt']\n",
    "timestamp = data[wave_nodepath_master][0][0]['timestamp']\n",
    "triggertimestamp = data[wave_nodepath_master][0][0]['triggertimestamp']\n",
    "t = np.arange(-totalsamples, 0)*dt + (timestamp - triggertimestamp)/float(clockbase)\n",
    "\n",
    "# New time axis values after shifted FFT\n",
    "shiftedT = np.linspace(min(t), max(t), len(t)*2-1)\n",
    "\n",
    "wave = data[wave_nodepath_master][0][0]['wave'][0]\n",
    "wave2 = data[wave_nodepath_master][0][0]['wave'][1]\n",
    "#wave2 = np.flip(wave2)\n",
    "\n",
    "txcorr = signal.correlate(wave, wave2, mode = 'full', method='direct')\n",
    "plt.plot(shiftedT, txcorr/len(txcorr))\n",
    "plt.title('Cross correlation done through python')\n",
    "plt.xlabel('Time /s')"
   ]
  },
  {
   "cell_type": "code",
   "execution_count": null,
   "metadata": {},
   "outputs": [],
   "source": [
    "###############################################################\n",
    "############ Flipped Python Correlation calculation ###########\n",
    "###############################################################\n",
    "\n",
    "from scipy import signal \n",
    "\n",
    "wave = data[wave_nodepath_master][0][0]['wave'][0]\n",
    "wave2 = data[wave_nodepath_master][0][0]['wave'][1]\n",
    "wave2 = np.flip(wave2)\n",
    "\n",
    "txcorr = signal.correlate(wave, wave2, mode = 'same', method='direct')\n",
    "plt.plot(t, txcorr/len(txcorr))\n",
    "plt.title('Cross correlation done through python')\n",
    "plt.xlabel('Time /s')"
   ]
  },
  {
   "cell_type": "code",
   "execution_count": null,
   "metadata": {},
   "outputs": [],
   "source": [
    "###############################################################\n",
    "##################### FFT Data calculation ####################\n",
    "###############################################################\n",
    "\n",
    "## Get fft from UHFLI for channel 1\n",
    "fftwave1 = datafft[wave_nodepath_master][0][0]['wave'][0]\n",
    "\n",
    "## Get fft from UHFLI for channel 2\n",
    "fftwave2 = datafft[wave_nodepath_master][0][0]['wave'][1]\n",
    "\n",
    "# Multiply wave 1 with conjugate \n",
    "xcorr = np.multiply(fftwave1, np.conj(fftwave2))\n",
    "\n",
    "# Inverse FFT xcorr\n",
    "ifftcorr = np.fft.ifft(xcorr)\n",
    "\n",
    "# Plot\n",
    "plt.semilogy(ifftcorr)"
   ]
  },
  {
   "cell_type": "code",
   "execution_count": 59,
   "metadata": {},
   "outputs": [
    {
     "ename": "NameError",
     "evalue": "name 'signal' is not defined",
     "output_type": "error",
     "traceback": [
      "\u001b[1;31m---------------------------------------------------------------------------\u001b[0m",
      "\u001b[1;31mNameError\u001b[0m                                 Traceback (most recent call last)",
      "\u001b[1;32m<ipython-input-59-f6bc99d89ffa>\u001b[0m in \u001b[0;36m<module>\u001b[1;34m\u001b[0m\n\u001b[0;32m     34\u001b[0m \u001b[1;33m\u001b[0m\u001b[0m\n\u001b[0;32m     35\u001b[0m \u001b[1;31m# Plot\u001b[0m\u001b[1;33m\u001b[0m\u001b[1;33m\u001b[0m\u001b[1;33m\u001b[0m\u001b[0m\n\u001b[1;32m---> 36\u001b[1;33m \u001b[0mtxcorr\u001b[0m \u001b[1;33m=\u001b[0m \u001b[0msignal\u001b[0m\u001b[1;33m.\u001b[0m\u001b[0mcorrelate\u001b[0m\u001b[1;33m(\u001b[0m\u001b[0mpaddedwave1\u001b[0m\u001b[1;33m,\u001b[0m \u001b[0mpaddedwave2\u001b[0m\u001b[1;33m,\u001b[0m \u001b[0mmode\u001b[0m \u001b[1;33m=\u001b[0m \u001b[1;34m'same'\u001b[0m\u001b[1;33m,\u001b[0m \u001b[0mmethod\u001b[0m\u001b[1;33m=\u001b[0m\u001b[1;34m'direct'\u001b[0m\u001b[1;33m)\u001b[0m\u001b[1;33m\u001b[0m\u001b[1;33m\u001b[0m\u001b[0m\n\u001b[0m\u001b[0;32m     37\u001b[0m \u001b[0mplt\u001b[0m\u001b[1;33m.\u001b[0m\u001b[0mplot\u001b[0m\u001b[1;33m(\u001b[0m\u001b[0mt\u001b[0m\u001b[1;33m,\u001b[0m \u001b[0mtxcorr\u001b[0m\u001b[1;33m/\u001b[0m\u001b[0mlen\u001b[0m\u001b[1;33m(\u001b[0m\u001b[0mtxcorr\u001b[0m\u001b[1;33m)\u001b[0m\u001b[1;33m)\u001b[0m\u001b[1;33m\u001b[0m\u001b[1;33m\u001b[0m\u001b[0m\n\u001b[0;32m     38\u001b[0m \u001b[0mplt\u001b[0m\u001b[1;33m.\u001b[0m\u001b[0mtitle\u001b[0m\u001b[1;33m(\u001b[0m\u001b[1;34m'Cross correlation done through python'\u001b[0m\u001b[1;33m)\u001b[0m\u001b[1;33m\u001b[0m\u001b[1;33m\u001b[0m\u001b[0m\n",
      "\u001b[1;31mNameError\u001b[0m: name 'signal' is not defined"
     ]
    }
   ],
   "source": [
    "###############################################################\n",
    "############### Padded Zeros cross-correlation ################\n",
    "##################### Python xcorr method #####################\n",
    "###############################################################\n",
    "\n",
    "# For wave 2 (square wave)\n",
    "wave1 = data[wave_nodepath_master][0][0]['wave'][0] # Wave 2\n",
    "leftZeros = np.where(wave2 == np.amax(wave2)) # Find index of max value of triangle\n",
    "leftZeros = leftZeros[0][0]-2 # Number of zeros on the left hand side\n",
    "\n",
    "# The number of zeros to pad\n",
    "rightZeros = len(wave2)-(45833+leftZeros) # Total length points - (points in triangle ramp + zeros in left-hand side)\n",
    "zerosToPad = leftZeros - rightZeros # Find the remaining zeros to be added on RHS\n",
    "paddedwave1 = np.pad(wave1, (0, zerosToPad), 'constant')\n",
    "\n",
    "# For wave 2 (triangle wave)\n",
    "wave2 = data[wave_nodepath_master][0][0]['wave'][1] # Wave 2\n",
    "leftZeros = np.where(wave2 == np.amax(wave2)) # Find index of max value of triangle\n",
    "leftZeros = leftZeros[0][0]-2 # Number of zeros on the left hand side\n",
    "\n",
    "# The number of zeros to pad\n",
    "rightZeros = len(wave2)-(45833+leftZeros) # Total length points - (points in triangle ramp + zeros in left-hand side)\n",
    "zerosToPad = leftZeros - rightZeros # Find the remaining zeros to be added on RHS\n",
    "paddedwave2 = np.pad(wave2, (0, zerosToPad), 'constant')\n",
    "\n",
    "# Calculate new time domain (padded)\n",
    "clockbase = 1.8e9\n",
    "wave_nodepath_master='/dev2521/scopes/0/wave'\n",
    "totalsamples = len(paddedwave1) # the new number of total samples\n",
    "dt = data[wave_nodepath_master][0][0]['dt']\n",
    "timestamp = data[wave_nodepath_master][0][0]['timestamp']\n",
    "triggertimestamp = data[wave_nodepath_master][0][0]['triggertimestamp']\n",
    "t = np.arange(-totalsamples, 0)*dt + (timestamp - triggertimestamp)/float(clockbase)\n",
    "\n",
    "# Plot \n",
    "txcorr = signal.correlate(paddedwave1, paddedwave2, mode = 'same', method='direct')\n",
    "plt.plot(t, txcorr/len(txcorr))\n",
    "plt.title('Cross correlation done through python')\n",
    "plt.xlabel('Time /s')"
   ]
  },
  {
   "cell_type": "code",
   "execution_count": 1,
   "metadata": {},
   "outputs": [
    {
     "ename": "NameError",
     "evalue": "name 'data' is not defined",
     "output_type": "error",
     "traceback": [
      "\u001b[1;31m---------------------------------------------------------------------------\u001b[0m",
      "\u001b[1;31mNameError\u001b[0m                                 Traceback (most recent call last)",
      "\u001b[1;32m<ipython-input-1-aef2e79ff668>\u001b[0m in \u001b[0;36m<module>\u001b[1;34m\u001b[0m\n\u001b[0;32m      6\u001b[0m \u001b[0mclockbase\u001b[0m \u001b[1;33m=\u001b[0m \u001b[1;36m1.8e9\u001b[0m\u001b[1;33m\u001b[0m\u001b[1;33m\u001b[0m\u001b[0m\n\u001b[0;32m      7\u001b[0m \u001b[0mwave_nodepath_master\u001b[0m\u001b[1;33m=\u001b[0m\u001b[1;34m'/dev2521/scopes/0/wave'\u001b[0m\u001b[1;33m\u001b[0m\u001b[1;33m\u001b[0m\u001b[0m\n\u001b[1;32m----> 8\u001b[1;33m \u001b[0mtotalsamples\u001b[0m \u001b[1;33m=\u001b[0m \u001b[0mdata\u001b[0m\u001b[1;33m[\u001b[0m\u001b[0mwave_nodepath_master\u001b[0m\u001b[1;33m]\u001b[0m\u001b[1;33m[\u001b[0m\u001b[1;36m0\u001b[0m\u001b[1;33m]\u001b[0m\u001b[1;33m[\u001b[0m\u001b[1;36m0\u001b[0m\u001b[1;33m]\u001b[0m\u001b[1;33m[\u001b[0m\u001b[1;34m'totalsamples'\u001b[0m\u001b[1;33m]\u001b[0m\u001b[1;33m\u001b[0m\u001b[1;33m\u001b[0m\u001b[0m\n\u001b[0m\u001b[0;32m      9\u001b[0m \u001b[0mdt\u001b[0m \u001b[1;33m=\u001b[0m \u001b[0mdata\u001b[0m\u001b[1;33m[\u001b[0m\u001b[0mwave_nodepath_master\u001b[0m\u001b[1;33m]\u001b[0m\u001b[1;33m[\u001b[0m\u001b[1;36m0\u001b[0m\u001b[1;33m]\u001b[0m\u001b[1;33m[\u001b[0m\u001b[1;36m0\u001b[0m\u001b[1;33m]\u001b[0m\u001b[1;33m[\u001b[0m\u001b[1;34m'dt'\u001b[0m\u001b[1;33m]\u001b[0m\u001b[1;33m\u001b[0m\u001b[1;33m\u001b[0m\u001b[0m\n\u001b[0;32m     10\u001b[0m \u001b[0mtimestamp\u001b[0m \u001b[1;33m=\u001b[0m \u001b[0mdata\u001b[0m\u001b[1;33m[\u001b[0m\u001b[0mwave_nodepath_master\u001b[0m\u001b[1;33m]\u001b[0m\u001b[1;33m[\u001b[0m\u001b[1;36m0\u001b[0m\u001b[1;33m]\u001b[0m\u001b[1;33m[\u001b[0m\u001b[1;36m0\u001b[0m\u001b[1;33m]\u001b[0m\u001b[1;33m[\u001b[0m\u001b[1;34m'timestamp'\u001b[0m\u001b[1;33m]\u001b[0m\u001b[1;33m\u001b[0m\u001b[1;33m\u001b[0m\u001b[0m\n",
      "\u001b[1;31mNameError\u001b[0m: name 'data' is not defined"
     ]
    }
   ],
   "source": [
    "###############################################################\n",
    "################# Manual FFT Data calculation #################\n",
    "###############################################################\n",
    "\n",
    "# Get time-axis\n",
    "clockbase = 1.8e9\n",
    "wave_nodepath_master='/dev2521/scopes/0/wave'\n",
    "totalsamples = data[wave_nodepath_master][0][0]['totalsamples']\n",
    "dt = data[wave_nodepath_master][0][0]['dt']\n",
    "timestamp = data[wave_nodepath_master][0][0]['timestamp']\n",
    "triggertimestamp = data[wave_nodepath_master][0][0]['triggertimestamp']\n",
    "t = np.arange(-totalsamples, 0)*dt + (timestamp - triggertimestamp)/float(clockbase)\n",
    "\n",
    "\n",
    "# Channel 1 time series\n",
    "wave1 = data[wave_nodepath_master][0][0]['wave'][0]\n",
    "\n",
    "# Channel 2 time series\n",
    "wave2 = data[wave_nodepath_master][0][0]['wave'][1]\n",
    "\n",
    "# FFTs of both channels\n",
    "fftwave1 = np.fft.fft(wave1, len(wave1)*2-1)\n",
    "fftwave2 = np.fft.fft(wave2, len(wave2)*2-1)\n",
    "\n",
    "# Multiply wave 1 with conjugate wave 2\n",
    "xcorr = np.multiply(fftwave1, np.conj(fftwave2))\n",
    "\n",
    "# Inverse FFT of xcorr\n",
    "ifftcorr = np.fft.ifft(xcorr)\n",
    "\n",
    "# New time axis values after shifted FFT\n",
    "shiftedT = np.linspace(min(t), max(t), len(t)*2-1)\n",
    "\n",
    "# Shift inverse FFT\n",
    "shiftedxcorr = np.fft.fftshift(ifftcorr)\n",
    "\n",
    "# Plot correlation\n",
    "#plt.plot(shiftedT, (shiftedxcorr/len(shiftedxcorr)))\n",
    "#plt.title('Normalized cross correlated signal')\n",
    "\n",
    "fig, (ax1, ax2) = plt.subplots(1, 2)\n",
    "fig.suptitle('Normalized cross correlated signals')\n",
    "ax2.plot(shiftedT, shiftedxcorr/np.sqrt(sum(abs(wave1)**2)*sum(abs(wave2)**2)),color='black', linewidth=3)\n",
    "ax2.set_title('$f * g$') \n",
    "#plt.subplot(1,2,1)\n",
    "#plt.plot(shiftedT, shiftedxcorr/np.sqrt(sum(abs(wave1)**2)*sum(abs(wave2)**2)))\n",
    "ax2.set(xlabel='Time /s', ylabel='Normalized value')\n",
    "#plt.ylabel('Signal amplitude /V')\n",
    "\n",
    "## Second conj\n",
    "\n",
    "# Multiply wave 1 with conjugate wave 2\n",
    "xcorr = np.multiply(np.conj(fftwave1), fftwave2)\n",
    "\n",
    "# Inverse FFT of xcorr\n",
    "ifftcorr = np.fft.ifft(xcorr)\n",
    "\n",
    "# New time axis values after shifted FFT\n",
    "shiftedT = np.linspace(min(t), max(t), len(t)*2-1)\n",
    "\n",
    "# Shift inverse FFT\n",
    "shiftedxcorr2 = np.fft.fftshift(ifftcorr)\n",
    "\n",
    "# Plot correlation\n",
    "#plt.plot(shiftedT, (shiftedxcorr/len(shiftedxcorr)))\n",
    "#plt.title('Normalized cross correlated signal')\n",
    "\n",
    "#plt.subplot(1,2,2)\n",
    "ax1.plot(shiftedT, shiftedxcorr2/np.sqrt(sum(abs(wave1)**2)*sum(abs(wave2)**2)),color='black', linewidth=3)\n",
    "ax1.set_title('$g * f$') \n",
    "ax1.set(xlabel='Time /s', ylabel='Normalized value')"
   ]
  },
  {
   "cell_type": "code",
   "execution_count": 129,
   "metadata": {},
   "outputs": [
    {
     "name": "stderr",
     "output_type": "stream",
     "text": [
      "C:\\Users\\jsrinivas\\AppData\\Local\\Programs\\Python\\Python37\\lib\\site-packages\\numpy\\core\\_asarray.py:85: ComplexWarning: Casting complex values to real discards the imaginary part\n",
      "  return array(a, dtype, copy=False, order=order)\n",
      "C:\\Users\\jsrinivas\\AppData\\Local\\Programs\\Python\\Python37\\lib\\site-packages\\numpy\\core\\_asarray.py:85: ComplexWarning: Casting complex values to real discards the imaginary part\n",
      "  return array(a, dtype, copy=False, order=order)\n"
     ]
    },
    {
     "data": {
      "text/plain": [
       "[<matplotlib.lines.Line2D at 0x1994f61ec48>]"
      ]
     },
     "execution_count": 129,
     "metadata": {},
     "output_type": "execute_result"
    }
   ],
   "source": [
    "plt.plot(shiftedT, shiftedxcorr/np.sqrt(sum(abs(wave1)**2)*sum(abs(wave2)**2)),color='red', linewidth=3)\n",
    "plt.plot(shiftedT, shiftedxcorr2/np.sqrt(sum(abs(wave1)**2)*sum(abs(wave2)**2)),color='blue', linewidth=3)\n"
   ]
  },
  {
   "cell_type": "code",
   "execution_count": 76,
   "metadata": {},
   "outputs": [
    {
     "data": {
      "text/plain": [
       "1835.1351351351352"
      ]
     },
     "execution_count": 76,
     "metadata": {},
     "output_type": "execute_result"
    }
   ],
   "source": [
    "1358/0.74"
   ]
  },
  {
   "cell_type": "code",
   "execution_count": null,
   "metadata": {},
   "outputs": [],
   "source": []
  },
  {
   "cell_type": "code",
   "execution_count": 2,
   "metadata": {},
   "outputs": [
    {
     "ename": "NameError",
     "evalue": "name 'data' is not defined",
     "output_type": "error",
     "traceback": [
      "\u001b[1;31m---------------------------------------------------------------------------\u001b[0m",
      "\u001b[1;31mNameError\u001b[0m                                 Traceback (most recent call last)",
      "\u001b[1;32m<ipython-input-2-c5d84736ba45>\u001b[0m in \u001b[0;36m<module>\u001b[1;34m\u001b[0m\n\u001b[1;32m----> 1\u001b[1;33m \u001b[0mdata\u001b[0m\u001b[1;33m\u001b[0m\u001b[1;33m\u001b[0m\u001b[0m\n\u001b[0m",
      "\u001b[1;31mNameError\u001b[0m: name 'data' is not defined"
     ]
    }
   ],
   "source": [
    "data"
   ]
  },
  {
   "cell_type": "code",
   "execution_count": null,
   "metadata": {},
   "outputs": [],
   "source": [
    "plt.plot(shiftedT)"
   ]
  },
  {
   "cell_type": "code",
   "execution_count": 1,
   "metadata": {},
   "outputs": [
    {
     "ename": "NameError",
     "evalue": "name 'data' is not defined",
     "output_type": "error",
     "traceback": [
      "\u001b[1;31m---------------------------------------------------------------------------\u001b[0m",
      "\u001b[1;31mNameError\u001b[0m                                 Traceback (most recent call last)",
      "\u001b[1;32m<ipython-input-1-df74a70db8ef>\u001b[0m in \u001b[0;36m<module>\u001b[1;34m\u001b[0m\n\u001b[0;32m      4\u001b[0m \u001b[0mclockbase\u001b[0m \u001b[1;33m=\u001b[0m \u001b[1;36m1.8e9\u001b[0m\u001b[1;33m\u001b[0m\u001b[1;33m\u001b[0m\u001b[0m\n\u001b[0;32m      5\u001b[0m \u001b[0mwave_nodepath_master\u001b[0m\u001b[1;33m=\u001b[0m\u001b[1;34m'/dev2521/scopes/0/wave'\u001b[0m\u001b[1;33m\u001b[0m\u001b[1;33m\u001b[0m\u001b[0m\n\u001b[1;32m----> 6\u001b[1;33m \u001b[0mtotalsamples\u001b[0m \u001b[1;33m=\u001b[0m \u001b[0mdata\u001b[0m\u001b[1;33m[\u001b[0m\u001b[0mwave_nodepath_master\u001b[0m\u001b[1;33m]\u001b[0m\u001b[1;33m[\u001b[0m\u001b[1;36m0\u001b[0m\u001b[1;33m]\u001b[0m\u001b[1;33m[\u001b[0m\u001b[1;36m0\u001b[0m\u001b[1;33m]\u001b[0m\u001b[1;33m[\u001b[0m\u001b[1;34m'totalsamples'\u001b[0m\u001b[1;33m]\u001b[0m\u001b[1;33m\u001b[0m\u001b[1;33m\u001b[0m\u001b[0m\n\u001b[0m\u001b[0;32m      7\u001b[0m \u001b[0mdt\u001b[0m \u001b[1;33m=\u001b[0m \u001b[0mdata\u001b[0m\u001b[1;33m[\u001b[0m\u001b[0mwave_nodepath_master\u001b[0m\u001b[1;33m]\u001b[0m\u001b[1;33m[\u001b[0m\u001b[1;36m0\u001b[0m\u001b[1;33m]\u001b[0m\u001b[1;33m[\u001b[0m\u001b[1;36m0\u001b[0m\u001b[1;33m]\u001b[0m\u001b[1;33m[\u001b[0m\u001b[1;34m'dt'\u001b[0m\u001b[1;33m]\u001b[0m\u001b[1;33m\u001b[0m\u001b[1;33m\u001b[0m\u001b[0m\n\u001b[0;32m      8\u001b[0m \u001b[0mtimestamp\u001b[0m \u001b[1;33m=\u001b[0m \u001b[0mdata\u001b[0m\u001b[1;33m[\u001b[0m\u001b[0mwave_nodepath_master\u001b[0m\u001b[1;33m]\u001b[0m\u001b[1;33m[\u001b[0m\u001b[1;36m0\u001b[0m\u001b[1;33m]\u001b[0m\u001b[1;33m[\u001b[0m\u001b[1;36m0\u001b[0m\u001b[1;33m]\u001b[0m\u001b[1;33m[\u001b[0m\u001b[1;34m'timestamp'\u001b[0m\u001b[1;33m]\u001b[0m\u001b[1;33m\u001b[0m\u001b[1;33m\u001b[0m\u001b[0m\n",
      "\u001b[1;31mNameError\u001b[0m: name 'data' is not defined"
     ]
    }
   ],
   "source": [
    "%matplotlib qt\n",
    "\n",
    "# Get time-axis\n",
    "clockbase = 1.8e9\n",
    "wave_nodepath_master='/dev2521/scopes/0/wave'\n",
    "totalsamples = data[wave_nodepath_master][0][0]['totalsamples']\n",
    "dt = data[wave_nodepath_master][0][0]['dt']\n",
    "timestamp = data[wave_nodepath_master][0][0]['timestamp']\n",
    "triggertimestamp = data[wave_nodepath_master][0][0]['triggertimestamp']\n",
    "t = np.arange(-totalsamples, 0)*dt + (timestamp - triggertimestamp)/float(clockbase)\n",
    "\n",
    "plt.plot(t, wave1, label = 'Input channel 1')\n",
    "plt.plot(t, wave2, label = 'Input channel 2')\n",
    "\n",
    "plt.title('Digitized scope data of input channels')\n",
    "plt.xlabel('Time /s')\n",
    "plt.ylabel('Signal amplitude /V')\n",
    "\n",
    "plt.legend(loc='upper left', frameon=True)"
   ]
  },
  {
   "cell_type": "code",
   "execution_count": null,
   "metadata": {},
   "outputs": [],
   "source": []
  },
  {
   "cell_type": "code",
   "execution_count": null,
   "metadata": {},
   "outputs": [],
   "source": []
  },
  {
   "cell_type": "code",
   "execution_count": null,
   "metadata": {},
   "outputs": [],
   "source": []
  },
  {
   "cell_type": "code",
   "execution_count": 64,
   "metadata": {},
   "outputs": [
    {
     "name": "stderr",
     "output_type": "stream",
     "text": [
      "C:\\Users\\jsrinivas\\AppData\\Local\\Programs\\Python\\Python37\\lib\\site-packages\\numpy\\core\\_asarray.py:85: ComplexWarning: Casting complex values to real discards the imaginary part\n",
      "  return array(a, dtype, copy=False, order=order)\n"
     ]
    },
    {
     "data": {
      "text/plain": [
       "[<matplotlib.lines.Line2D at 0x199350720c8>]"
      ]
     },
     "execution_count": 64,
     "metadata": {},
     "output_type": "execute_result"
    }
   ],
   "source": [
    "###############################################################\n",
    "######### Manual FFT Data calculation circular shift ##########\n",
    "###############################################################\n",
    "\n",
    "# Get time-axis\n",
    "clockbase = 1.8e9\n",
    "wave_nodepath_master='/dev2521/scopes/0/wave'\n",
    "totalsamples = data[wave_nodepath_master][0][0]['totalsamples']*2\n",
    "dt = data[wave_nodepath_master][0][0]['dt']\n",
    "timestamp = data[wave_nodepath_master][0][0]['timestamp']\n",
    "triggertimestamp = data[wave_nodepath_master][0][0]['triggertimestamp']\n",
    "t = np.arange(-totalsamples, 0)*dt + (timestamp - triggertimestamp)/float(clockbase)\n",
    "\n",
    "# Channel 1 time series\n",
    "wave1 = data[wave_nodepath_master][0][0]['wave'][0]\n",
    "\n",
    "# Channel 2 time series\n",
    "wave2 = data[wave_nodepath_master][0][0]['wave'][1]\n",
    "\n",
    "# FFTs of both channels\n",
    "fftwave1 = np.fft.fft(wave1, len(wave1)+len(wave2)-1)\n",
    "fftwave2 = np.fft.fft(wave2, len(wave1)+len(wave2)-1)\n",
    "\n",
    "# Multiply wave 1 with conjugate wave 2\n",
    "xcorr = np.multiply(fftwave1, np.conj(fftwave2))\n",
    "\n",
    "# Inverse FFT of xcorr\n",
    "ifftcorr = np.fft.ifft(xcorr)\n",
    "\n",
    "length = len(ifftcorr)\n",
    "# Shift time domain by half\n",
    "ifftcorr = np.roll(ifftcorr, int(length/2))\n",
    "# Plot correlation\n",
    "plt.plot(t[:32767], ifftcorr/len(ifftcorr))"
   ]
  },
  {
   "cell_type": "code",
   "execution_count": 61,
   "metadata": {},
   "outputs": [
    {
     "data": {
      "text/plain": [
       "60297"
      ]
     },
     "execution_count": 61,
     "metadata": {},
     "output_type": "execute_result"
    }
   ],
   "source": [
    "len(t)"
   ]
  },
  {
   "cell_type": "code",
   "execution_count": null,
   "metadata": {},
   "outputs": [],
   "source": [
    "len(wave1)"
   ]
  },
  {
   "cell_type": "code",
   "execution_count": null,
   "metadata": {},
   "outputs": [],
   "source": [
    "len(ifftcorr)"
   ]
  },
  {
   "cell_type": "code",
   "execution_count": null,
   "metadata": {},
   "outputs": [],
   "source": []
  },
  {
   "cell_type": "code",
   "execution_count": null,
   "metadata": {},
   "outputs": [],
   "source": []
  },
  {
   "cell_type": "code",
   "execution_count": null,
   "metadata": {},
   "outputs": [],
   "source": [
    "###############################################################\n",
    "################# Inverse FFT Data observation ################\n",
    "###############################################################\n",
    "\n",
    "ifftwave1 = np.fft.ifft(fftwave1)\n",
    "ifftwave2 = np.fft.ifft(fftwave2)\n",
    "plt.plot(t, ifftwave1)\n",
    "plt.plot(t, ifftwave2)"
   ]
  },
  {
   "cell_type": "code",
   "execution_count": null,
   "metadata": {},
   "outputs": [],
   "source": [
    "###############################################################\n",
    "############### corr_fft: the actual calculation ##############\n",
    "###############################################################\n",
    "\n",
    "ifftcorr_fft= np.fft.ifft(corr_fft)\n",
    "\n",
    "plt.plot(t, ifftcorr_fft/len(ifftcorr_fft))"
   ]
  },
  {
   "cell_type": "code",
   "execution_count": 70,
   "metadata": {},
   "outputs": [
    {
     "name": "stderr",
     "output_type": "stream",
     "text": [
      "C:\\Users\\jsrinivas\\AppData\\Local\\Programs\\Python\\Python37\\lib\\site-packages\\numpy\\core\\_asarray.py:85: ComplexWarning: Casting complex values to real discards the imaginary part\n",
      "  return array(a, dtype, copy=False, order=order)\n",
      "C:\\Users\\jsrinivas\\AppData\\Local\\Programs\\Python\\Python37\\lib\\site-packages\\numpy\\core\\_asarray.py:85: ComplexWarning: Casting complex values to real discards the imaginary part\n",
      "  return array(a, dtype, copy=False, order=order)\n"
     ]
    },
    {
     "data": {
      "text/plain": [
       "[<matplotlib.lines.Line2D at 0x1993bcc5ec8>]"
      ]
     },
     "execution_count": 70,
     "metadata": {},
     "output_type": "execute_result"
    }
   ],
   "source": [
    "import numpy as np\n",
    "from scipy import signal\n",
    "import matplotlib.pyplot as plt\n",
    "t = np.linspace(-0.2, 0.5, 500, endpoint=False)\n",
    "t2 = np.linspace(-0.2, 0.5, 250, endpoint=False)\n",
    "t3 = np.linspace(-0.4, 1.0, 999)\n",
    "square = (signal.square(2 * np.pi * t - np.pi/2 , duty=0.2) + 1)/3\n",
    "triangle = np.zeros(500)\n",
    "triangle[250:500] = (signal.sawtooth(2 * np.pi * t2 - np.pi, 0 ) + 1)/2\n",
    "\n",
    "txcorr = signal.correlate(square, triangle, mode = 'full', method='direct')\n",
    "txcorr2 = np.fft.ifft(np.fft.fft(square, 999)*np.conj(np.fft.fft(triangle, 999)))\n",
    "\n",
    "plt.figure(0)\n",
    "plt.plot(t, square)\n",
    "plt.plot(t, triangle)\n",
    "plt.figure(1)\n",
    "plt.plot(t3, txcorr)\n",
    "plt.plot(t3, txcorr2)\n",
    "plt.figure(2)\n",
    "plt.plot(t3, np.fft.fftshift(txcorr2), '.')\n",
    "plt.plot(t3, txcorr)"
   ]
  },
  {
   "cell_type": "code",
   "execution_count": 72,
   "metadata": {},
   "outputs": [
    {
     "data": {
      "text/plain": [
       "500"
      ]
     },
     "execution_count": 72,
     "metadata": {},
     "output_type": "execute_result"
    }
   ],
   "source": [
    "len(t)"
   ]
  },
  {
   "cell_type": "code",
   "execution_count": null,
   "metadata": {},
   "outputs": [],
   "source": [
    "len(txcorr)"
   ]
  },
  {
   "cell_type": "code",
   "execution_count": null,
   "metadata": {},
   "outputs": [],
   "source": [
    "len(square)"
   ]
  },
  {
   "cell_type": "code",
   "execution_count": null,
   "metadata": {},
   "outputs": [],
   "source": []
  }
 ],
 "metadata": {
  "kernelspec": {
   "display_name": "Python 3",
   "language": "python",
   "name": "python3"
  },
  "language_info": {
   "codemirror_mode": {
    "name": "ipython",
    "version": 3
   },
   "file_extension": ".py",
   "mimetype": "text/x-python",
   "name": "python",
   "nbconvert_exporter": "python",
   "pygments_lexer": "ipython3",
   "version": "3.7.6"
  }
 },
 "nbformat": 4,
 "nbformat_minor": 4
}
